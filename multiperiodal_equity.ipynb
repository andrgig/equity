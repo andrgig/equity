{
 "cells": [
  {
   "cell_type": "markdown",
   "metadata": {
    "slideshow": {
     "slide_type": "slide"
    }
   },
   "source": [
    "$$\n",
    "\\def\\E{\\mathbb{E}}\n",
    "\\def\\1{\\mathbb{1}}\n",
    "$$\n",
    "In questo modello multiperiodale un'azienda fallisce quando alla scadenza del proprio debito il valore degli attivi si trova al di sotto di una soglia fissa K. Nel caso in cui si trovi sopra l'azienda può accedere ad un nuovo finziamento, ovviamente ad uno spread maggiore del precedente qualora gli attivi siano scesi (minore se saliti).\n",
    "L'azienda rinnova i propri finanziamenti ogni $\\tau$ anni, in teoria per sempre. Per motivi numerici è opportuno inserire una scadenza $T >> \\tau.$\n",
    "Ad ogni data di rinnovo $t = i \\cdot \\tau$ (dove i = 0,...,N), i finanziatori dell'azienda determinano lo spread minimo a cui sono dispositi a prestare soldi dalla seguente relazione:\n",
    "$$\n",
    "L(t) = \\E\\big[L(t)\\cdot(1+s(t))\\1_{\\{A(t+\\tau) > K\\}} + A(t+\\tau)\\1_{\\{A(t+\\tau < K\\}}\n",
    "|\\mathcal{F}_t\\big]\n",
    "$$\n",
    "Lo spread si può quindi determinare come:\n",
    "$$\n",
    "s(t) = \\frac{1}{L \\cdot N(d_2)}\\big[ L(t)\\cdot \\big(\\1-N(d_2)\\big) - A(t)\\cdot\\big(1-N(d_1)\\big)\\big]\n",
    "$$\n",
    "dove $L(t)$ è calcolabile partendo dal finanziamento originario in $t = 0$ come:\n",
    "$$\n",
    "L(t=i\\tau) = \\prod_{j=0}^{j=i-1}(1+s(j\\tau))L(0)\n",
    "$$\n",
    "La valutazione dell'equity potrebbe essere quindi effettuata in modalità forward (ad esempio tramite montecarlo) fino alla scadenza fittizia T attualizzando:\n",
    "* 0, nel caso in cui esista un A(t) < K\n",
    "* $max(A(T) - L(T), 0)$ se arriva a scadenza\n",
    "\n",
    "Questo modello ha una cosenguenza, ovvero che il default non dipende dalla storia del passivo (solo il payoff ne dipende). Vederemo in seguito se possibile cambiare qualche assunzione.\n"
   ]
  },
  {
   "cell_type": "code",
   "execution_count": 11,
   "metadata": {
    "collapsed": true,
    "slideshow": {
     "slide_type": "subslide"
    }
   },
   "outputs": [],
   "source": [
    "A = 100"
   ]
  },
  {
   "cell_type": "code",
   "execution_count": 12,
   "metadata": {
    "collapsed": true,
    "slideshow": {
     "slide_type": "subslide"
    }
   },
   "outputs": [],
   "source": [
    "K = 50"
   ]
  },
  {
   "cell_type": "code",
   "execution_count": 13,
   "metadata": {
    "collapsed": true,
    "slideshow": {
     "slide_type": "fragment"
    }
   },
   "outputs": [],
   "source": [
    "vol = 0.2"
   ]
  },
  {
   "cell_type": "code",
   "execution_count": 14,
   "metadata": {
    "collapsed": true,
    "slideshow": {
     "slide_type": "fragment"
    }
   },
   "outputs": [],
   "source": [
    "tau = 1.0"
   ]
  },
  {
   "cell_type": "code",
   "execution_count": 15,
   "metadata": {
    "collapsed": true
   },
   "outputs": [],
   "source": [
    "L = 90.0"
   ]
  },
  {
   "cell_type": "code",
   "execution_count": 16,
   "metadata": {
    "collapsed": true
   },
   "outputs": [],
   "source": [
    "T = 50"
   ]
  },
  {
   "cell_type": "code",
   "execution_count": 17,
   "metadata": {
    "collapsed": true
   },
   "outputs": [],
   "source": [
    "import numpy as np\n",
    "import scipy as sp\n",
    "import scipy.stats\n",
    "import math"
   ]
  },
  {
   "cell_type": "code",
   "execution_count": 18,
   "metadata": {
    "collapsed": false
   },
   "outputs": [],
   "source": [
    "def s(At, Lt):\n",
    "    d1 = (math.log(At / K) + (0.5 * vol ** 2) * tau) / (vol * math.sqrt(tau))\n",
    "    d2 = (math.log(At / K) - (0.5 * vol ** 2) * tau) / (vol * math.sqrt(tau))\n",
    "    Nd1 = sp.stats.norm.cdf(d1)\n",
    "    Nd2 = sp.stats.norm.cdf(d2)   \n",
    "    spread = (Lt*(1-Nd2) - At * (1-Nd1)) / (L*Nd2)\n",
    "    return spread"
   ]
  },
  {
   "cell_type": "code",
   "execution_count": 19,
   "metadata": {
    "collapsed": false
   },
   "outputs": [
    {
     "name": "stdout",
     "output_type": "stream",
     "text": [
      "0.000180191679296\n"
     ]
    }
   ],
   "source": [
    "print s(A,L)"
   ]
  },
  {
   "cell_type": "code",
   "execution_count": 20,
   "metadata": {
    "collapsed": false
   },
   "outputs": [],
   "source": [
    "def pathGen(runs):\n",
    "    np.random.seed(1)\n",
    "    nsteps = int((T / tau) + 1)\n",
    "    vol2 = vol * vol\n",
    "    epsilon = np.random.normal(0, 1, (runs, nsteps - 1))\n",
    "    paths = np.ones((nsteps, runs))\n",
    "    paths[0,:] = A\n",
    "    for i in range(nsteps)[1:]:\n",
    "        paths[i,:] = paths[i-1,:] * np.exp(-0.5*vol2 * tau + vol * math.sqrt(tau) * epsilon[:,i-1])\n",
    "    return paths"
   ]
  },
  {
   "cell_type": "code",
   "execution_count": 21,
   "metadata": {
    "collapsed": true
   },
   "outputs": [],
   "source": [
    "def payoff(path):\n",
    "    np.seterr('raise')\n",
    "    # Check for default\n",
    "    if min(path) < K:\n",
    "        return 0.\n",
    "    \n",
    "    # Compute the spread\n",
    "    try:\n",
    "        Lt = L\n",
    "        for i in range(len(path) - 1):\n",
    "            spread = s(path[i], Lt)\n",
    "            Lt = Lt * (1 + spread)\n",
    "    except:\n",
    "        return 0\n",
    "    \n",
    "    return max(path[-1] - Lt,0)"
   ]
  },
  {
   "cell_type": "code",
   "execution_count": 158,
   "metadata": {
    "collapsed": false
   },
   "outputs": [],
   "source": [
    "runs = 10000\n"
   ]
  },
  {
   "cell_type": "code",
   "execution_count": 22,
   "metadata": {
    "collapsed": false
   },
   "outputs": [],
   "source": [
    "def E():\n",
    "    paths = pathGen(runs)\n",
    "    payoffs = np.ones(runs)\n",
    "    for i in range(runs):\n",
    "        payoffs[i] = payoff(paths[:,i])\n",
    "    return payoffs.mean()\n",
    "        "
   ]
  },
  {
   "cell_type": "code",
   "execution_count": 160,
   "metadata": {
    "collapsed": false
   },
   "outputs": [
    {
     "name": "stdout",
     "output_type": "stream",
     "text": [
      "43.4665855053\n"
     ]
    }
   ],
   "source": [
    "print E()"
   ]
  },
  {
   "cell_type": "markdown",
   "metadata": {},
   "source": [
    "Questo modello non funziona, dovremmo ottenere un numero vicino a A - L iniziali. Ci sono più motivi:\n",
    "* è difficile capire qual è il payoff a scadenza: ho messo il max tra A - L e 0 poiché l'equity non può diventare negativa, ma così facendo il problema non è ben specificato. Ci sono path che terminano con A vicino a K, $L(T)$ enorme e nessuno che soffre A - L. Anche togliendo il max dalla condizione finale non sembra risolvere\n",
    "* L può crescere indiscriminatamente senza portare al fallimento, con problemi (numerici e concettuali) enormi.\n",
    "\n",
    "E' necessario cambiare le specifiche del modello, inserendo una condizione di fallimento differente Stavo pensando di inserire una condizione sullo spread, ma credo che questo porti alla necessità di risolvere il problema backward.\n",
    "Come primo tentativo per ovviare a questo problema si può ipotizzare come condizione di fallimento quella in cui gli attivi si trovano al di sotto di una percentuale $X$ dei passivi emessi alla data precedente."
   ]
  },
  {
   "cell_type": "code",
   "execution_count": 161,
   "metadata": {
    "collapsed": true
   },
   "outputs": [],
   "source": [
    "X = 0.4"
   ]
  },
  {
   "cell_type": "code",
   "execution_count": 23,
   "metadata": {
    "collapsed": false
   },
   "outputs": [],
   "source": [
    "def s_perc(At, Lt):\n",
    "    d1 = (math.log(At / (Lt * X)) + (0.5 * vol ** 2) * tau) / (vol * math.sqrt(tau))\n",
    "    d2 = (math.log(At / (Lt * X)) - (0.5 * vol ** 2) * tau) / (vol * math.sqrt(tau))\n",
    "    Nd1 = sp.stats.norm.cdf(d1)\n",
    "    Nd2 = sp.stats.norm.cdf(d2)   \n",
    "    spread = (Lt*(1-Nd2) - At * (1-Nd1)) / (L*Nd2)\n",
    "    return spread"
   ]
  },
  {
   "cell_type": "markdown",
   "metadata": {},
   "source": [
    "Il problema, come nel caso precedente, è quello di trovare un payoff terminale adeguato. Probabilmente la cosa migliore è ipotizzare, per quanto assurdo, che all'ultimo periodo valga il modello uniperiodale alla Merton e valutare la condizione terminale a $T - \\tau$ con il valore dell'equity dato dal valore della call. Rispetto a come ho tratto il caso precedente devo quindi inserire un ulteriore funzione per la deteriminazione dello spread e la funzione di pricing dell'equity."
   ]
  },
  {
   "cell_type": "code",
   "execution_count": 24,
   "metadata": {
    "collapsed": true
   },
   "outputs": [],
   "source": [
    "def bs(A, L):\n",
    "    d1 = (math.log(A / L) + (0.5 * vol ** 2) * tau) / (vol * math.sqrt(tau))\n",
    "    d2 = (math.log(A / L) - (0.5 * vol ** 2) * tau) / (vol * math.sqrt(tau))\n",
    "    call_price = A * sp.stats.norm.cdf(d1) - L * sp.stats.norm.cdf(d2)   \n",
    "    put_price = L * sp.stats.norm.cdf(-d2) - A * sp.stats.norm.cdf(-d1)\n",
    "    return put_price, call_price"
   ]
  },
  {
   "cell_type": "code",
   "execution_count": 25,
   "metadata": {
    "collapsed": true
   },
   "outputs": [],
   "source": [
    "def b1(A, L, s):\n",
    "    put, call = bs(A, L * (1+s))\n",
    "    return L * (1 + s) - put"
   ]
  },
  {
   "cell_type": "code",
   "execution_count": 26,
   "metadata": {
    "collapsed": true
   },
   "outputs": [],
   "source": [
    "def s_merton(A, L):\n",
    "    res = sp.optimize.minimize(\n",
    "    lambda s: (b1(A, L, s) - L) ** 2,\n",
    "    [0.0],\n",
    "    bounds=[(-0.1, 1.0)])\n",
    "    return res.x[0]\n"
   ]
  },
  {
   "cell_type": "code",
   "execution_count": 27,
   "metadata": {
    "collapsed": true
   },
   "outputs": [],
   "source": [
    "def e_merton(A, L, s):\n",
    "    put, call = bs(A, L * (1+s))\n",
    "    return call"
   ]
  },
  {
   "cell_type": "code",
   "execution_count": 28,
   "metadata": {
    "collapsed": true
   },
   "outputs": [],
   "source": [
    "def payoff_perc(path):\n",
    "    Lt = L\n",
    "    for i in range(len(path) - 1):\n",
    "        if path[i+1] < X * Lt:\n",
    "            # Default\n",
    "            return 0\n",
    "        if i == (len(path) - 2):\n",
    "            spread = s_merton(path[i], Lt)\n",
    "            return e_merton(path[i], Lt, spread)\n",
    "        else:\n",
    "            spread = s_perc(path[i], Lt)\n",
    "\n",
    "        Lt = Lt * (1 + spread)\n",
    "    \n",
    "    return max(path[-1] - Lt,0)"
   ]
  },
  {
   "cell_type": "code",
   "execution_count": 168,
   "metadata": {
    "collapsed": true
   },
   "outputs": [],
   "source": [
    "def E_perc():\n",
    "    paths = pathGen(runs)\n",
    "    payoffs = np.ones(runs)\n",
    "    for i in range(runs):\n",
    "        payoffs[i] = payoff_perc(paths[:,i])\n",
    "    return payoffs.mean()"
   ]
  },
  {
   "cell_type": "code",
   "execution_count": 169,
   "metadata": {
    "collapsed": false
   },
   "outputs": [
    {
     "name": "stdout",
     "output_type": "stream",
     "text": [
      "48.0665248717\n"
     ]
    }
   ],
   "source": [
    "print E_perc()"
   ]
  },
  {
   "cell_type": "markdown",
   "metadata": {},
   "source": [
    "Anche questo modello non funziona. Il problema credo dipenda dal fatto che in realtà queste specifiche non sono corrette. Ad esempio nel modello di Merton base il caso in cui il forward degli asset è inferiore al passivo non è ammissibile: non esiste nessun ente disposto a finanziare questo tipo di aziena. Sotto l'esempio numerico di un'aziena che ha debito per 100 e forward degli asset parti a 99.9."
   ]
  },
  {
   "cell_type": "code",
   "execution_count": 29,
   "metadata": {
    "collapsed": false
   },
   "outputs": [
    {
     "name": "stdout",
     "output_type": "stream",
     "text": [
      "1.0\n"
     ]
    }
   ],
   "source": [
    "print s_merton(99.9, 100)"
   ]
  },
  {
   "cell_type": "markdown",
   "metadata": {},
   "source": [
    "Ovvero lo spread massimo possibile del risolutore numerico pari al 100%. Quindi, ipotizzare che valga Merton alla scadenza non è opportuno dato che il valore dell'attivo può scendere al di sotto del passivo. Anzi, la possibilità di un rifinanziamento tramite la sola emissione di nuovi bond in questi casi non è mai verosimile: c'è evidentemente da affrontre il modello in modo molto differente.\n",
    "Mi vengono in mente due possibilità:\n",
    "\n",
    "1. La condizione di fallimento, anche in modello multiperiodale, è quella in cui gli attivi si trovino al di sotto delle liabilities da ripagare.\n",
    "2. Nel caso in cui gli attivi siano al di sotto delle liabilities ma sopra lo il livello di fallimento (ad es. $X \\cdot L$), viene effettuato un aumento di capitale. Rimane il problema di cosa succede all'ultimo periodo.\n",
    "\n",
    "Direi di procedere con la 1. Entrambe i casi possono essere affrontati in due modi differenti:\n",
    "1. con un rifinanziamento periodico tramite passivo caratterizzato da un'unica scadenza (come assunto finora)\n",
    "2. ipotizzando che vi sia una struttura a termine del passivo che viene di volta in volta rollata. \n",
    "\n",
    "Si procede con 1.\n",
    "In questo modello, ai fini della valutazione dell'equity e dei bond/spread, dovrebbe essere rilevante solo il primo periodo. Adesso lo verifico empiricamente...\n"
   ]
  },
  {
   "cell_type": "code",
   "execution_count": 30,
   "metadata": {
    "collapsed": true
   },
   "outputs": [],
   "source": [
    "def payoff_multi_merton_1(path):\n",
    "    Lt = L\n",
    "    for i in range(len(path) - 1):\n",
    "        spread = s_merton(path[i], Lt)\n",
    "        Lt = Lt * (1 + spread)\n",
    "        if path[i+1] < Lt:\n",
    "            return 0\n",
    "        if i == (len(path) - 2):\n",
    "            return max(path[-1] - Lt,0)\n"
   ]
  },
  {
   "cell_type": "code",
   "execution_count": 31,
   "metadata": {
    "collapsed": true
   },
   "outputs": [],
   "source": [
    "def E_multi_merton_1():\n",
    "    paths = pathGen(runs)\n",
    "    payoffs = np.ones(runs)\n",
    "    for i in range(runs):\n",
    "        payoffs[i] = payoff_multi_merton_1(paths[:,i])\n",
    "    return payoffs.mean()"
   ]
  },
  {
   "cell_type": "code",
   "execution_count": 173,
   "metadata": {
    "collapsed": false
   },
   "outputs": [],
   "source": [
    "T = 20"
   ]
  },
  {
   "cell_type": "raw",
   "metadata": {},
   "source": [
    "runs = 1000"
   ]
  },
  {
   "cell_type": "code",
   "execution_count": 174,
   "metadata": {
    "collapsed": false
   },
   "outputs": [
    {
     "name": "stdout",
     "output_type": "stream",
     "text": [
      "10.7570490754\n"
     ]
    }
   ],
   "source": [
    "print E_multi_merton_1()"
   ]
  },
  {
   "cell_type": "markdown",
   "metadata": {},
   "source": [
    "Direi che ci siamo (ci si aspettava un valore prossimo a $A(0) - L(0)$). Se il valore dell'equity è determinato univocamente dal primo periodo, a cosa ci serve un modello multiperiodale? Uno degli obiettivi è quello di capire come varia l'equity quando viene incrementato l'attivo mediante emissione di nuovo finanziamento (cambiando la rischiosità dell'attivo). A titolo di esempio prendiamo il caso in cui l'aziena acquisti, per un ammontare C, un bond risk free con scadenza pari a $\\tau$ e rendimento nullo. L'equity prima di questa operazione vale evidentemente $A(0) - L(0)$ e su L viene pagato lo spread di Merton. \n",
    "Dopo questa operazione l'equity cambia valore:\n",
    "$$\n",
    "E_2 = \\E[ \\max(0, A(T) + C - L(1+s) - C(1+s')) ]\n",
    "$$\n",
    "dove s è lo spread prima dell'operazione, s' quello successivo, per determinare il quale si deve risolvere la seguente equazione:\n",
    "$$\n",
    "\\begin{align}\n",
    "C &= \\E[ \\min(C(1+s'),  (A(T) + C) \\frac{C}{L+C}) ] \\\\\n",
    "&= \\frac{C}{L+C} \\E[ \\min(C(1+s')\\frac{L+C}{C}, A(T) + C) ] \\\\\n",
    "&= \\frac{C}{L+C} \\E[ \\min(C(1+s')\\frac{L+C}{C} - C, A(T)) + C ] \\\\\n",
    "&= \\frac{C}{L+C} \\E[ \\min((1+s')(L+C) - C, A(T)) ] + \\frac{C^2}{L+C} \\\\\n",
    "\\end{align}\n",
    "$$\n",
    "dove è stato ipotizzato un recovery proporzionale al face value del debito."
   ]
  },
  {
   "cell_type": "code",
   "execution_count": 32,
   "metadata": {
    "collapsed": true
   },
   "outputs": [],
   "source": [
    "def C_price(A, L, C, sprime):\n",
    "    strike = (L + C) * (1 + sprime) - C\n",
    "    put, call = bs(A, strike)\n",
    "    return C / (L + C) * (strike - put) + (C ** 2) / (L + C)"
   ]
  },
  {
   "cell_type": "code",
   "execution_count": 33,
   "metadata": {
    "collapsed": true
   },
   "outputs": [],
   "source": [
    "def e2(A, L, s, sprime):\n",
    "    put, call = bs(A, L * (1 + s) + C * sprime)\n",
    "    return call"
   ]
  },
  {
   "cell_type": "code",
   "execution_count": 34,
   "metadata": {
    "collapsed": true
   },
   "outputs": [],
   "source": [
    "def sprime(A, L, C):\n",
    "    res = sp.optimize.minimize(\n",
    "    lambda s: (C_price(A, L, C, s) - C) ** 2,\n",
    "    [0.0],\n",
    "    bounds=[(-0.5, 1.0)])\n",
    "    return res.x[0]\n"
   ]
  },
  {
   "cell_type": "code",
   "execution_count": 35,
   "metadata": {
    "collapsed": true
   },
   "outputs": [],
   "source": [
    "s = s_merton(A, L)"
   ]
  },
  {
   "cell_type": "code",
   "execution_count": 36,
   "metadata": {
    "collapsed": false
   },
   "outputs": [
    {
     "data": {
      "text/plain": [
       "0.066005296966200763"
      ]
     },
     "execution_count": 36,
     "metadata": {},
     "output_type": "execute_result"
    }
   ],
   "source": [
    "s"
   ]
  },
  {
   "cell_type": "code",
   "execution_count": 37,
   "metadata": {
    "collapsed": false
   },
   "outputs": [],
   "source": [
    "C=20"
   ]
  },
  {
   "cell_type": "code",
   "execution_count": 38,
   "metadata": {
    "collapsed": false
   },
   "outputs": [],
   "source": [
    "s_prime = sprime(A, L, C)"
   ]
  },
  {
   "cell_type": "code",
   "execution_count": 39,
   "metadata": {
    "collapsed": false
   },
   "outputs": [
    {
     "data": {
      "text/plain": [
       "0.054004334796322315"
      ]
     },
     "execution_count": 39,
     "metadata": {},
     "output_type": "execute_result"
    }
   ],
   "source": [
    "s_prime"
   ]
  },
  {
   "cell_type": "code",
   "execution_count": 40,
   "metadata": {
    "collapsed": false
   },
   "outputs": [
    {
     "data": {
      "text/plain": [
       "9.4258825881647326"
      ]
     },
     "execution_count": 40,
     "metadata": {},
     "output_type": "execute_result"
    }
   ],
   "source": [
    "e2(A, L, s, s_prime)"
   ]
  },
  {
   "cell_type": "markdown",
   "metadata": {},
   "source": [
    "Quindi l'equity diminuisce. Adesso vediamo cosa succede nell'ipotesi in cui il bond acquistato C abbia una maturity pari a 2 $\\tau$. A $t = \\tau$ deve essere rifinanziato (nel caso in cui non ci sia fallimento), un importo pari a $L(1+s) + C(1+s_{prime})$ ad un nuovo spread $s_2$. Il nuovo spread soddisfa la seguente equazione:\n",
    "$$\n",
    "\\begin{align}\n",
    "L(1+s) + C(1+s_{prime}) = L_{tot}  &= \\E\\big[\\min(L_{tot} \\cdot (1 + s_2), A(2\\tau) + C)\\big]  \\\\\n",
    " & = \\E\\big[\\min(L_{tot} \\cdot (1 + s_2) - C, A(2\\tau))\\big] + C\n",
    "\\end{align}\n",
    "$$"
   ]
  },
  {
   "cell_type": "code",
   "execution_count": 62,
   "metadata": {
    "collapsed": false
   },
   "outputs": [
    {
     "name": "stdout",
     "output_type": "stream",
     "text": [
      "Bond con maturity = tau\n",
      "0.00953198697104 0.0077988978585 9.84453935938\n",
      "Bond con maturity = 2*tau\n",
      "Single financing\n",
      "0.0274233096586 0.0224372485795 9.69515074734\n",
      "Rolling financing\n"
     ]
    },
    {
     "ename": "IndexError",
     "evalue": "index 2 is out of bounds for axis 0 with size 2",
     "output_type": "error",
     "traceback": [
      "\u001b[0;31m---------------------------------------------------------------------------\u001b[0m",
      "\u001b[0;31mIndexError\u001b[0m                                Traceback (most recent call last)",
      "\u001b[0;32m<ipython-input-62-4f91f5dfe916>\u001b[0m in \u001b[0;36m<module>\u001b[0;34m()\u001b[0m\n\u001b[1;32m     45\u001b[0m         \u001b[1;31m# Find the new spread\u001b[0m\u001b[1;33m\u001b[0m\u001b[1;33m\u001b[0m\u001b[0m\n\u001b[1;32m     46\u001b[0m         \u001b[0ms_2\u001b[0m \u001b[1;33m=\u001b[0m \u001b[0ms2\u001b[0m\u001b[1;33m(\u001b[0m\u001b[0mpaths\u001b[0m\u001b[1;33m[\u001b[0m\u001b[1;36m1\u001b[0m\u001b[1;33m,\u001b[0m \u001b[0mi\u001b[0m\u001b[1;33m]\u001b[0m\u001b[1;33m,\u001b[0m \u001b[0mtotL1\u001b[0m\u001b[1;33m,\u001b[0m \u001b[0mC\u001b[0m\u001b[1;33m)\u001b[0m\u001b[1;33m\u001b[0m\u001b[0m\n\u001b[0;32m---> 47\u001b[0;31m         \u001b[0mpayoffs\u001b[0m\u001b[1;33m[\u001b[0m\u001b[0mi\u001b[0m\u001b[1;33m]\u001b[0m \u001b[1;33m=\u001b[0m \u001b[0mmax\u001b[0m\u001b[1;33m(\u001b[0m\u001b[0mpaths\u001b[0m\u001b[1;33m[\u001b[0m\u001b[1;36m2\u001b[0m\u001b[1;33m,\u001b[0m \u001b[0mi\u001b[0m\u001b[1;33m]\u001b[0m \u001b[1;33m+\u001b[0m \u001b[0mC\u001b[0m \u001b[1;33m-\u001b[0m \u001b[0mtotL1\u001b[0m \u001b[1;33m*\u001b[0m \u001b[1;33m(\u001b[0m\u001b[1;36m1\u001b[0m \u001b[1;33m+\u001b[0m \u001b[0ms_2\u001b[0m\u001b[1;33m)\u001b[0m\u001b[1;33m,\u001b[0m \u001b[1;36m0.\u001b[0m\u001b[1;33m)\u001b[0m\u001b[1;33m\u001b[0m\u001b[0m\n\u001b[0m\u001b[1;32m     48\u001b[0m \u001b[1;32mprint\u001b[0m \u001b[0ms\u001b[0m\u001b[1;33m,\u001b[0m \u001b[0ms_prime\u001b[0m\u001b[1;33m,\u001b[0m \u001b[0mpayoffs\u001b[0m\u001b[1;33m.\u001b[0m\u001b[0mmean\u001b[0m\u001b[1;33m(\u001b[0m\u001b[1;33m)\u001b[0m\u001b[1;33m\u001b[0m\u001b[0m\n",
      "\u001b[0;31mIndexError\u001b[0m: index 2 is out of bounds for axis 0 with size 2"
     ]
    }
   ],
   "source": [
    "def C2_price(A, Ltot, C, s2):\n",
    "    strike = Ltot * (1 + s2) - C\n",
    "    put, call = bs(A, strike)\n",
    "    return (strike - put) + C\n",
    "\n",
    "def s2(A, Ltot, C):\n",
    "    res = sp.optimize.minimize(\n",
    "    lambda s: (C2_price(A, Ltot, C, s) - Ltot) ** 2,\n",
    "    [0.0],\n",
    "    bounds=[(-0.5, 1.0)])\n",
    "    return res.x[0]\n",
    "\n",
    "T = 1.\n",
    "runs = 1\n",
    "A = 100.0\n",
    "L = 90.0\n",
    "C = 20.0\n",
    "vol = 0.1\n",
    "# Prima proviamo con un singolo finanziamento lungo tau = 2\n",
    "print \"Bond con maturity = tau\"\n",
    "tau = 1.\n",
    "s = s_merton(A, L)\n",
    "s_prime = sprime(A, L, C)\n",
    "print s, s_prime, e2(A, L, s, s)\n",
    "\n",
    "print \"Bond con maturity = 2*tau\"\n",
    "print \"Single financing\"\n",
    "tau = 2.\n",
    "s = s_merton(A, L)\n",
    "s_prime = sprime(A, L, C)\n",
    "print s, s_prime, e2(A, L, s, s_prime)\n",
    "# Ora con 2 finanziamenti\n",
    "print \"Rolling financing\"\n",
    "tau = 1.0\n",
    "paths = pathGen(runs)\n",
    "payoffs = np.zeros(runs)\n",
    "s = s_merton(A, L)\n",
    "s_prime = sprime(A, L, C)\n",
    "totL1 = L*(1+s) + C*(1+s_prime)\n",
    "\n",
    "for i in range(runs):\n",
    "    if (paths[1, i] + C) < totL1:\n",
    "         payoffs[i] = 0.\n",
    "    else:\n",
    "        # Find the new spread\n",
    "        s_2 = s2(paths[1, i], totL1, C)\n",
    "        payoffs[i] = max(paths[2, i] + C - totL1 * (1 + s_2), 0.)\n",
    "print s, s_prime, payoffs.mean()\n"
   ]
  },
  {
   "cell_type": "markdown",
   "metadata": {},
   "source": [
    "La diminuzione in valore dell'equity rollando il finanziamento è la medesima (a meno dell'errore montecarlo) che si ha nel caso in cui l'obbligazione C ha una maturity pari a $\\tau$: dipende quindi non dalla scadenza del titolo, ma dalla frequenza di rifinanziamento. Questo si poteva evincere anche da quanto osservato prima relativamente al modello rolling di Merton: nel caso in esempio in cui la maturity è pari a $2\\tau$, alla data di rifinanziamento $\\tau$ il valore dell'equity sarà pari al $\\max(A(\\tau) + C - L\\cdot(1 + s)(1+s'),0)$, esattamente lo stesso del caso in cui il bond dura $\\tau$."
   ]
  },
  {
   "cell_type": "markdown",
   "metadata": {
    "collapsed": true
   },
   "source": [
    "Domanda di intermezzo: dopo ogni periodo, se l'azienda ha prodotto utili (i.e. gli asset sono saliti), l'equity potrebbe essere remunerato liquidando parte degli attivi. Questo influisce o meno?"
   ]
  },
  {
   "cell_type": "markdown",
   "metadata": {
    "collapsed": false
   },
   "source": [
    "Intermezzo, cosa succede in un modello uniperiodale se un'azienda finanzia un incremento sull'espozione del proprio attivo?\n",
    "$$\n",
    "\\begin{align}\n",
    "E &= \\E\\big[\\max\\big(A(\\tau)\\cdot(1+\\alpha) - L(1+s) - C(1+s'),0\\big)\\big] \\\\\n",
    "&= (1+\\alpha)BS(A, K=\\frac{L(1+s) - C(1+s')}{1+\\alpha})\n",
    "\\end{align}\n",
    "$$\n",
    "con $\\alpha = C / A(0)$. Per determinare $s'$ si dovrebbe valutare lo spread fair che risolve\n",
    "$$\n",
    "$$\n",
    "\\begin{align}\n",
    "C &= \\E[ \\min(C(1+s'),  (1+\\alpha)A(T) \\frac{C}{L+C}) ] \\geq C \\\\\n",
    "&= \\frac{(1+\\alpha)C}{L+C} \\E[ \\min(C(1+s')\\frac{L+C}{C(1+\\alpha)}, A(T) ]\n",
    "\\end{align}\n",
    "$$\n",
    "$$"
   ]
  },
  {
   "cell_type": "code",
   "execution_count": 42,
   "metadata": {
    "collapsed": true
   },
   "outputs": [],
   "source": [
    "def E_reinvest(A, L, C, s, s_prime):\n",
    "    alpha = C / A\n",
    "    K = (L*(1+s) + C*(1+s_prime))/(1+alpha)\n",
    "    put, call = bs(A, K)\n",
    "    return call * (1+alpha)"
   ]
  },
  {
   "cell_type": "code",
   "execution_count": 43,
   "metadata": {
    "collapsed": true
   },
   "outputs": [],
   "source": [
    "def C_reinvest(A, L, C, s, s_prime):\n",
    "    alpha = C / A\n",
    "    strike = (L + C) * (1 + s_prime) / (C*(1+alpha))\n",
    "    put, call = bs(A, strike)\n",
    "    return(1 + alpha) * C / (L + C) * (strike - put)"
   ]
  },
  {
   "cell_type": "code",
   "execution_count": 44,
   "metadata": {
    "collapsed": true
   },
   "outputs": [],
   "source": [
    "def s_prime_reinvest(A, L, C, s):\n",
    "    res = sp.optimize.minimize(\n",
    "    lambda s_prime: (C_reinvest(A, L, C, s, s_prime) - C) ** 2,\n",
    "    [0.0],\n",
    "    bounds=[(-0.1, 1.0)])\n",
    "    return res.x[0]\n",
    "    "
   ]
  },
  {
   "cell_type": "code",
   "execution_count": 45,
   "metadata": {
    "collapsed": false,
    "scrolled": true
   },
   "outputs": [
    {
     "name": "stdout",
     "output_type": "stream",
     "text": [
      "0.0660052969662\n",
      "10.0000002428\n",
      "0.0668616728674\n",
      "10.0418026854\n",
      "10.0779865126\n",
      "10.0779865126\n"
     ]
    }
   ],
   "source": [
    "def E_reinvest_check(A, L, C, s, s_prime):\n",
    "    alpha = C / A\n",
    "    K = (L*(1+s) + C*(1+s_prime))\n",
    "    put, call = bs(A*(1+alpha), K)\n",
    "    return call \n",
    "\n",
    "A = 100.0\n",
    "L = 90.0\n",
    "C = 1.0\n",
    "vol = 0.2\n",
    "tau = 1.0\n",
    "s = s_merton(A, L)\n",
    "print s\n",
    "print e_merton(A, L, s)\n",
    "s_prime = s_prime_reinvest(A, L, C, s)\n",
    "print s_prime\n",
    "print E_reinvest(A, L, C, s, s_prime)\n",
    "print E_reinvest(A, L, C, s, 0.)\n",
    "print E_reinvest_check(A, L, C, s, 0.)"
   ]
  },
  {
   "cell_type": "markdown",
   "metadata": {
    "collapsed": true
   },
   "source": [
    "Proviamo a ragionare su cosa succede ad una azienda che ha 2 finanziamenti con scadenze differenti, $\\tau$ e $2\\tau$, importi $L1$ e $L2$. Il finanziatore con scadenza minore applicherà un fair spread $s1$ dato da:\n",
    "$$\n",
    "L1 = L1(1+s1)\\cdot\\E\\big[\\1\\{A(\\tau)>L1(1+s1)\\}\\big] +\\frac{L1}{L1 + L2}\\E\\big[A(\\tau)\\cdot\\1\\{A(\\tau)<L1(1+s1)\\}\\big]\\big]\n",
    "$$\n",
    "La situazione è un po' più complicata per L2 poiché deve tener conto di:\n",
    "- probabiilità congiunta di sopravvivenza a T1, T2;\n",
    "- spread di rifinanziamento \"forward\" s12 per L1.\n",
    "\n",
    "Ci sono 3 scenari:\n",
    "1. $A(\\tau) < L1(1+s1)$ -> $L2/(L1+L2)*A(\\tau)$\n",
    "2. $A(\\tau) > L1(1+s1) \\cap \\big[A(2*\\tau) < L1(1+s1)(1+s12) + L2(1+s2)\\big]$ -> $L2/(L1+L2)*A(2*\\tau)$\n",
    "2. $A(\\tau) > L1(1+s1) \\cap \\big[A(2*\\tau) >= L1(1+s1)(1+s12) + L2(1+s2)\\big]$ -> $L2*(1+s2)$\n",
    "\n",
    "La formula di pricing si può scrivere come:\n",
    "$$\n",
    "L2 = \\frac{L2}{L1+L2}\\E\\big[A(\\tau)\\cdot\\1\\{A(\\tau)<L1(1+s1)\\}\\big] + \\frac{L2}{L1+L2}\\E\\big[A(2*\\tau)\\1\\big\\{ A(\\tau) > L1(1+s1) \\cap \\big[A(2*\\tau) < L1(1+s1)(1+s12) + L2(1+s2)\\big] \\big\\}\\big] + L2(1+s2)E\\big[\\1\\big\\{ A(\\tau) > L1(1+s2) \\cap \\big[A(2*\\tau) >= L1(1+s1)(1+s12) + L2(1+s2)\\big]\\big\\}\\big]\n",
    "$$\n",
    "\n",
    "Per calcolare questa formula è necessario anche stimare s12 dal punto di vista del finanziatore L2. Qui si entra nella metafisica... Proviamo. Ci sono 3 scenari:\n",
    "1. $A(\\tau) < L1(1+s2)$ -> 0. Non c'è rifinanziamento\n",
    "2. $A(\\tau) > L1(1+s2) \\cap \\big[A(2*\\tau) < L1(1+s1)(1+s12) + L2(1+s2)\\big]$ -> $L1/(L1+L2)*A(2*\\tau)$\n",
    "3. $A(\\tau) > L1(1+s2) \\cap \\big[A(2*\\tau) >= L1(1+s1)(1+s12) + L2(1+s2)\\big]$ -> $L1*(1+s1)*(1+s12)$\n",
    "\n",
    "Vediamo come si scrive una ipotetica formula di pricing:\n",
    "$$\n",
    "L(1+s1) \\E\\big[A(\\tau) > L1(1+s1) \\big] = \\frac{L1}{L1+L2}\\E\\big[A(\\tau)\\cdot\\1\\big\\{ A(\\tau) > L1(1+s1) \\cap \\big[A(2*\\tau) < L1(1+s1)(1+s12) + L2(1+s2)\\big] \\big\\}\\big] + L1(1+s1)(1+s12)E\\big[\\1\\big\\{ A(\\tau) > L1(1+s2) \\cap \\big[A(2*\\tau) >= L1(1+s1)(1+s12) + L2(1+s2)\\big]\\big\\}\\big] \\\\\n",
    "$$\n",
    "\n",
    "A questo punto abbiamo 2 equazioni in 2 incognite che devono essere risolte contemporaneamente. Vediamo anche come possiamo calcolare le probabilità congiunte (definiamo $L_tot = L1(1+s1)(1+s12) + L2(1+s2)$):\n",
    "$$\n",
    "\\begin{align}\n",
    "& P\\big(A(\\tau) > L1(1+s1) \\cap A(2*\\tau) >= L_{tot}\\big) = \\\\\n",
    "& \\sum_i P\\big(A(2*\\tau) >= L_{tot}\\big | A(\\tau) \\in [X_i, X_{i+1}])P\\big(A(\\tau) \\in [X_i, X_{i+1}]\\big)\n",
    "\\end{align}\n",
    "$$\n",
    "dove $[X_i, X_{i+1}]$ sono partizioni disgiunte (infinitesimali) di $A(\\tau$) con $x_0 > L1(1+s1)$. Nel continuo:\n",
    "$$\n",
    "\\int_{L1(1+s1)}^\\infty dS_1 \\bigg[ f(S_1) \\int_{L_{tot}}^\\infty f(S_2 | S(\\tau) = S_1) dS_2\\bigg]\n",
    "$$\n",
    "che si può scrivere come:\n",
    "$$\n",
    "\\int_{L1(1+s1)}^\\infty dS_1 \\bigg[ f(S_1) N\\big(d2=\\frac{ln(S_1/L_{tot}) - 0.5\\sigma^2\\tau}{\\sigma \\sqrt{\\tau}}\\big)\\bigg]\n",
    "$$\n",
    "dove f(S_1) è la distribuzione lognormale:\n",
    "$$\n",
    "f(S_1;\\mu = \\ln A(0) - 0.5\\sigma^2\\tau,\\sigma \\sqrt{\\tau}) = \\frac{1}{ S_1\\sigma \\sqrt{2 \\pi \\tau}}\\exp\\left[-\\frac {(\\ln S_1 - \\mu)^{2}} {2\\sigma^{2}\\tau}\\right]\n",
    "$$\n",
    "Conviene anche scrivere la probabilità per il mdesimo evento nella misura indotta dall'asset:\n",
    "$$\n",
    "\\int_{L1(1+s1)}^\\infty dS_1 \\bigg[ f'(S_1) N\\big(d1=\\frac{ln(S_1/L_{tot}) + 0.5\\sigma^2\\tau}{\\sigma \\sqrt{\\tau}}\\big)\\bigg]\n",
    "$$\n",
    "con\n",
    "$$\n",
    "f'(S_1;\\mu = \\ln A(0) + 0.5\\sigma^2\\tau,\\sigma \\sqrt{\\tau}) = \\frac{1}{ S_1\\sigma \\sqrt{2 \\pi \\tau}}\\exp\\left[-\\frac {(\\ln S_1 - \\mu)^{2}} {2\\sigma^{2}\\tau}\\right]\n",
    "$$\n",
    "Per quanto riguarda la probabilità dell'evento $$A(\\tau) > L1(1+s1) \\cap A(2*\\tau) < L_{tot}$$ basta sostituire nelle precedenti formule $d1$ e $d2$ con $-d1$ e $-d2$.\n",
    "Cerchiamo di non perdere l'obbiettivo: tutti questi conti servono per determinare s1, s2, s12 in modo che si possa stimare la variazione che l'equity subisce se al tempo $t = 0^+$ viene finanziato l'acquisto di cassa mediante debito senior. Contrariamente al caso uniperiodale, in questo caso ci sono infiniti modi per finanziare l'acquisto, ovvero una qualsiasi combinazione lineare di debiti a scadenze $\\tau$ e $2\\tau$. Intanto vediamo qual è la formula per valutare l'equity prima della nuova operazione:\n",
    "$$\n",
    "E(0) = \\E\\big[\\1\\big\\{A(\\tau) > L1(1+s1) \\cap A(2*\\tau) >= L_{tot}\\big\\} (A(2\\tau) - L_{tot})\\big]\n",
    "$$\n",
    "Se assumiamo che:\n",
    "- la cassa viene finanziata emettendo debito con la stessa prorpozionalità di L1, L2\n",
    "- gli spread s1, s2, s12, rimangono invariati (C << A)\n",
    "è ragionevole ipotizzare che il nuovo valore dell'equity sia:\n",
    "$$\n",
    "E(0) = \\E\\big[\\1\\big\\{(A(\\tau) + C) > (L1 + C\\frac{L1}{L1+L2})(1+s1) \\cap (A(2*\\tau) + C) >= L'_{tot}\\big\\} (A(2\\tau) + C - L'_{tot})\\big]\n",
    "$$\n",
    "dove\n",
    "$$\n",
    "L'_{tot} = (L1+C\\frac{L1}{L1+L2})(1+s1)(1+s12) + (L2+C\\frac{L2}{L1+L2})(1+s2)\n",
    "$$\n",
    "\n",
    "Adesso al lavoro con i conti!"
   ]
  },
  {
   "cell_type": "code",
   "execution_count": 1,
   "metadata": {
    "collapsed": false
   },
   "outputs": [
    {
     "name": "stdout",
     "output_type": "stream",
     "text": [
      "s1:  0.00953196687802 s2:  1.01063037452e-05 s12:  0.0131050768842\n",
      "equity:  10.0001486197\n",
      "equity C:  9.69020959283\n"
     ]
    }
   ],
   "source": [
    "import math\n",
    "import numpy as np\n",
    "import scipy as sp\n",
    "import scipy.stats\n",
    "import scipy.optimize\n",
    "from scipy.integrate import quad\n",
    "\n",
    "\n",
    "class Integrand(object):\n",
    "    def __init__(self, S0, tau, vol, Ltot, isRiskNeutral, parity):\n",
    "        self.tau = tau\n",
    "        self.vol = vol\n",
    "        self.Ltot = Ltot\n",
    "        if isRiskNeutral:\n",
    "            self.measuresign = -1\n",
    "        else:\n",
    "            self.measuresign = 1\n",
    "        self.parity = parity\n",
    "        self.S0 = S0\n",
    "        self.mu = math.log(S0) + self.measuresign * 0.5 * vol * vol * tau\n",
    "        self.var = vol * vol * tau\n",
    "\n",
    "    def integrand(self, S):\n",
    "        pdf = math.exp(-0.5 * ((math.log(S) - self.mu) ** 2) / self.var)\n",
    "        pdf = pdf / (S * math.sqrt(2 * math.pi * self.var))\n",
    "        d = self.parity * (math.log(S / self.Ltot) + 0.5 * self.measuresign * self.var) / (\n",
    "        self.vol * math.sqrt(self.tau))\n",
    "        N = sp.stats.norm.cdf(d)\n",
    "        return pdf * N\n",
    "\n",
    "    def integrandtest(self, S):\n",
    "        pdf = math.exp(-0.5 * ((math.log(S) - self.mu) ** 2) / self.var)\n",
    "        pdf = pdf / (S * math.sqrt(2 * math.pi * self.var))\n",
    "        pdf = pdf * max(S - self.S0, 0.)\n",
    "        return pdf\n",
    "\n",
    "    @staticmethod\n",
    "    def test():\n",
    "        integrand = Integrand(100, 1, 0.2, 100, True, 1)\n",
    "        print integrand.integrand(100)\n",
    "\n",
    "    @staticmethod\n",
    "    def testcall():\n",
    "        integrand = Integrand(100, 1, 0.2, 100, True, 1)\n",
    "        print quad(integrand.integrandtest, 0, 300)[0]\n",
    "\n",
    "\n",
    "def jointprob(S0, tau, vol, L1, Ltot, isRiskNeutral, parity):\n",
    "    integrand = Integrand(S0, tau, vol, Ltot, isRiskNeutral, parity)\n",
    "    return quad(integrand.integrand, L1, 300)[0]\n",
    "\n",
    "\n",
    "def ts_L1(A0, tau, vol, L1, L2, s1):\n",
    "    d2 = (math.log(A0 / (L1*(1+s1))) - 0.5 * vol * vol * tau) / (vol * math.sqrt(tau))\n",
    "    d1 = (math.log(A0 / (L1*(1+s1))) + 0.5 * vol * vol * tau) / (vol * math.sqrt(tau))\n",
    "    Nd2 = sp.stats.norm.cdf(d2)\n",
    "    Nd1 = sp.stats.norm.cdf(-d1)\n",
    "    return L1 * (1 + s1) * Nd2 + float(L1) / float(L1 + L2) * A0 * Nd1\n",
    "\n",
    "\n",
    "def ts_L12(A0, tau, vol, L1, L2, s1, s2, s12):\n",
    "    d2 = (math.log(A0 / (L1*(1+s1))) - 0.5 * vol * vol * tau) / (vol * math.sqrt(tau))\n",
    "    Nd2 = sp.stats.norm.cdf(d2)\n",
    "    Ltot = L1 * (1 + s1) * (1 + s12) + L2 * (1 + s2)\n",
    "    defconditionalprob = jointprob(A0, tau, vol, L1 * (1 + s1), Ltot, False, -1) / Nd2\n",
    "    survconditionalprob = jointprob(A0, tau, vol, L1 * (1 + s1), Ltot, True, 1) / Nd2\n",
    "    L12 = float(L1) / float(L1 + L2) * A0 * defconditionalprob + float(L1) * (1 + s1) * (1 + s12) * survconditionalprob\n",
    "    return L12\n",
    "\n",
    "\n",
    "def ts_L2(A0, tau, vol, L1, L2, s1, s2, s12):\n",
    "    d1 = (math.log(A0 / (L1*(1+s1))) + 0.5 * vol * vol * tau) / (vol * math.sqrt(tau))\n",
    "    Nd1 = sp.stats.norm.cdf(-d1)\n",
    "    Ltot = L1 * (1 + s1) * (1 + s12) + L2 * (1 + s2)\n",
    "    defjointprob = jointprob(A0, tau, vol, L1 * (1 + s1), Ltot, False, -1)\n",
    "    survjointprob = jointprob(A0, tau, vol, L1 * (1 + s1), Ltot, True, 1)\n",
    "    L2_res = float(L2) / float(L1 + L2) * A0 * (Nd1 + defjointprob)\n",
    "    L2_res = L2_res + float(L2) * (1 + s2) * survjointprob\n",
    "    return L2_res\n",
    "\n",
    "\n",
    "def ts_s1(A, tau, vol, L1, L2):\n",
    "    res = sp.optimize.minimize(\n",
    "        lambda s1: (ts_L1(A, tau, vol, L1, L2, s1) - L1) ** 2,\n",
    "        [0.0],\n",
    "        bounds=[(-0.1, 1.0)])\n",
    "    return res.x[0]\n",
    "\n",
    "\n",
    "def ts_s12_s2(A, tau, vol, L1, L2, s1):\n",
    "    res = sp.optimize.minimize(\n",
    "        lambda x: ((ts_L12(A, tau, vol, L1, L2, s1, x[0], x[1]) - L1 * (1 + s1))** 2 +\n",
    "                   (ts_L2(A, tau, vol, L1, L2, s1, x[0], x[1]) - L2) ** 2),\n",
    "        [0.0, 0.0],\n",
    "        bounds=[(0.00001, 0.2), (0.00001, 0.2)])\n",
    "    return res.x\n",
    "\n",
    "def ts_equity(A0, tau, vol, L1, L2, s1, s2, s12, C):\n",
    "    L1C = L1 + float(L1) / float(L1 + L2) * C\n",
    "    L2C = L2 + float(L2) / float(L1 + L2) * C\n",
    "    Ltot = L1C * (1 + s1) * (1 + s12) + L2C * (1 + s2)\n",
    "    survjointprob_rn = jointprob(A0, tau, vol, L1C * (1 + s1) - C, Ltot - C, True, 1)\n",
    "    survjointprob_asset = jointprob(A0, tau, vol, L1C * (1 + s1) - C, Ltot - C, False, 1)\n",
    "    return A0 * survjointprob_asset - (Ltot - C) * survjointprob_rn\n",
    "    \n",
    "\n",
    "A = 100.0\n",
    "L1 = 89.99\n",
    "L2 = 90. - L1\n",
    "vol = 0.1\n",
    "tau = 1.0\n",
    "C = 20\n",
    "\n",
    "s1 = ts_s1(A, tau, vol, L1, L2)\n",
    "s2, s12 = ts_s12_s2(A, tau, vol, L1, L2, s1)\n",
    "e = ts_equity(A, tau, vol, L1, L2, s1, s2, s12, 0)\n",
    "eC = ts_equity(A, tau, vol, L1, L2, s1, s2, s12, C)\n",
    "print \"s1: \", s1, \"s2: \", s2, \"s12: \", s12\n",
    "print \"equity: \", e\n",
    "print \"equity C: \", eC"
   ]
  },
  {
   "cell_type": "markdown",
   "metadata": {
    "collapsed": true
   },
   "source": [
    "Questo ultimo risultato numerico fa capire che c'è qualcosa che non va nella formula per l'equity: il problema è che in $\\tau$ il finanziatore a breve deve recepire il cambiamento di portafoglio (adesso c'è $C$) ed applicare uno spread differente da quello forward $s12$. Se non c'è una formula analitica si deve andare di Montecarlo.\n",
    "$$\n",
    "E(0) = \\E\\big[\\E\\big[\\max\\big (A(2\\tau) + C - L2'(1+s2) - L1'(1+s1)(1+\\tilde{s}12), 0\\big) |\\mathcal{F}_\\tau\\big]\\big|\\mathcal{F}_0\\big]\n",
    "$$\n",
    "dove con l'apice si intende il finanziamento incrementato per la quota parte di $C$ e $\\tilde{s}12$ è lo spread, ignoto in $t=0$, che soddisfa l'equazione:\n",
    "$$\n",
    "L1'(1+s1) = \\E\\big[\\1\\{A(2\\tau) + C \\geq L2'(1+s2) + L1'(1+s1)(1+\\tilde{s}12)\\}L1(1+s1)(1+\\tilde{s}12)+A(2\\tau)\\frac{L1'}{L_{tot}'}\\1\\{--<--\\}\\big]\n",
    "$$\n"
   ]
  },
  {
   "cell_type": "code",
   "execution_count": 2,
   "metadata": {
    "collapsed": false
   },
   "outputs": [
    {
     "name": "stdout",
     "output_type": "stream",
     "text": [
      "0.00953196687802 1.01063037452e-05 0.0131050768842\n",
      "0.0018861325695\n",
      "10.5670390916\n"
     ]
    }
   ],
   "source": [
    "def ts_Ltilde12(A0, C, tau, vol, L1, L2, s1, s2, s12):\n",
    "    L1C = L1 + float(L1) / float(L1 + L2) * C\n",
    "    L2C = L2 + float(L2) / float(L1 + L2) * C\n",
    "    Ltot = L1C * (1 + s1) * (1 + s12) + L2C * (1 + s2)\n",
    "    d2 = (math.log(A0 / (Ltot - C)) - 0.5 * vol * vol * tau) / (vol * math.sqrt(tau))\n",
    "    Nd2 = sp.stats.norm.cdf(d2)\n",
    "    survival_price = Nd2 * L1C*(1+s12)\n",
    "    d1 = (math.log(A0 / (Ltot - C)) + 0.5 * vol * vol * tau) / (vol * math.sqrt(tau))\n",
    "    Nd1 = sp.stats.norm.cdf(-d1)\n",
    "    recovery_price =  float(L1C) / float(L1C + L2C) * (A0 * Nd1 + C*(1-Nd2))\n",
    "    return survival_price + recovery_price\n",
    "\n",
    "def ts_stilde12(A0, C, tau, vol, L1, L2, s1, s2):\n",
    "    L1C = L1 + float(L1) / float(L1 + L2) * C\n",
    "    res = sp.optimize.minimize(\n",
    "    lambda s1: (ts_Ltilde12(A0, C, tau, vol, L1, L2, s1, s2, s12) - L1C*(1+s1)) ** 2,\n",
    "    [0.0],\n",
    "    bounds=[(-0.1, 0.2)])\n",
    "    return res.x[0]\n",
    "\n",
    "def ts_pathGen(runs, A0, tau, vol):\n",
    "    np.random.seed(1)\n",
    "    nsteps = 1\n",
    "    vol2 = vol * vol\n",
    "    epsilon = np.random.normal(0, 1, runs)\n",
    "    paths = np.ones(2 * runs)\n",
    "    paths[0:runs] = A0 * np.exp(-0.5*vol2 * tau + vol * math.sqrt(tau) * epsilon[:])\n",
    "    paths[runs:2*runs] = A0 * np.exp(-0.5*vol2 * tau - vol * math.sqrt(tau) * epsilon[:])\n",
    "    return paths\n",
    "\n",
    "def ts_E_MC(A0, C, tau, vol, L1, L2, nruns):\n",
    "    # First we find s1, s2, s12 without C\n",
    "    s1 = ts_s1(A, tau, vol, L1, L2)\n",
    "    s2, s12 = ts_s12_s2(A, tau, vol, L1, L2, s1)\n",
    "    print s1, s2, s12\n",
    "    \n",
    "    # Now the montecarlo\n",
    "    paths = ts_pathGen(nruns, A0, tau, vol)\n",
    "    equities = np.zeros(2 * nruns)\n",
    "    L1C = L1 + float(L1) / float(L1 + L2) * C\n",
    "    L2C = L2 + float(L2) / float(L1 + L2) * C\n",
    "    s = []\n",
    "    for i in range(2 * nruns):\n",
    "        if paths[i] + C > L1C*(1+s1):\n",
    "            stilde12 = ts_stilde12(paths[i], C, tau, vol, L1, L2, s1, s2)\n",
    "            s.append(stilde12)\n",
    "            Ltot = L1C * (1 + s1) * (1 + stilde12) + L2C * (1 + s2)\n",
    "            d2 = (math.log(paths[i] / (Ltot - C)) - 0.5 * vol * vol * tau) / (vol * math.sqrt(tau))\n",
    "            Nd2 = sp.stats.norm.cdf(d2)\n",
    "            d1 = (math.log(paths[i] / (Ltot - C)) + 0.5 * vol * vol * tau) / (vol * math.sqrt(tau))\n",
    "            Nd1 = sp.stats.norm.cdf(d1)\n",
    "            equities[i] = paths[i] * Nd1 - (Ltot - C) * Nd2\n",
    "        else:\n",
    "            equities[i] = 0.\n",
    "    print np.mean(s)\n",
    "    return np.mean(equities)\n",
    "\n",
    "\n",
    "A = 100.0\n",
    "L1 = 89.99\n",
    "L2 = 90. - L1\n",
    "vol = 0.1\n",
    "tau = 1.0\n",
    "C = 0.\n",
    "runs = 10000\n",
    "print ts_E_MC(A, C, tau, vol, L1, L2, runs)\n",
    "\n",
    "\n",
    "    "
   ]
  },
  {
   "cell_type": "markdown",
   "metadata": {},
   "source": [
    "Sopra c'è grossa crisi, così tanta che passo al KVA!"
   ]
  },
  {
   "cell_type": "markdown",
   "metadata": {},
   "source": [
    "KVA and friends\n",
    "\n",
    "Che cosa è il KVA in questo modello? Come per l'FVA si definisce il KVA come la variazione di equity prima e dopo aver rispettato gli obblighi normativi. In generale FVA e KVA saranno calcolati insieme considerando l'equity prima e dopo un investimento in un attivo.\n",
    "\n",
    "Partiamo dalle usuali condizioni di una banca con un attivo $A$, un debito $L$ appena rinnovato su cui viene pagato un fair spread $s$ (quindi equity $E=A-L$). Supponiamo per semplicità che l'attivo sia composto da un unico investimento con un risk weight da normativa basilea/CRD IV $w$. Perché la banca possa condurre la sua attività deve necessariamente essere che \n",
    "$$\n",
    "\\frac{E}{wA} \\geq x\\%\n",
    "$$\n",
    "dove $x\\%$ è un valore regolamentare. Stiamo implicitamente assumendo in questo modello che il market cap $E$ sia esattamente uguale al CET1 della normativa. Se adesso la banca intende investire tramite finanziamento in un altro asset rischioso, il vincolo normativo deve essere rispettato. Se si assume che il finanziatore è a conoscenza del requisito normativo, devono valere contemporaneamente le seguenti equazioni:\n",
    "$$\n",
    "\\begin{align}\n",
    "\\frac{E_1}{w(1+\\alpha)A+w_1A_1} & \\geq x\\% \\\\\n",
    "L_1 & <= \\E\\big[\\1\\{default\\}L_1(1+s1) + \\frac{L_1}{L_1 + L}\\big((1+\\alpha)A + A_1\\big)\\1\\{not default\\}\\big]\n",
    "\\end{align}\n",
    "$$\n",
    "dove con $default$ si intende l'evento:\n",
    "$$\n",
    "(1+\\alpha)A + A_1 \\geq L(1+s) + L_1(1+s1)\n",
    "$$\n",
    "Due parole sulle formule precedenti: si suppone che a seguito dell'investimento in $A1$ la banca sia costretta ad effettuare un aumento di capitale ed il capitale verrà investito interamente nell'attivo esistente $A$, che equivale ad ipotizzare una continuità di business; l'aumento di capitale è quindi pari a $\\alpha A$. L'investitore onniscente conosce quello che sarà il bilancio a seguito dell'operazione nel suo complesso (acquisto di $A1$ e aumento di capitale) e vuole quindi essere remunerato con un spread che soddisfa la seconda diseguaglianza. Con queste due diseguaglianze è possibile determinare le coppie $\\alpha$, $s1$ ammissibili.\n",
    "\n",
    "Proviamo a risolvere il problema in un caso semplice, quello in cui $w=1$ e $A_1 = \\beta A$. Semplicemente la banca aumenta la sua esposizione nell'attivo. In questo caso ci si aspetta intuitivamente che il modello fornica un FVA-KVA nullo: è come aumentare proporzionalmente attivo e passivo della azienda senza alterare la leva finanziaria. Verifichiamo con le formule sopra che in questo caso divengono (le disequazioni sono diventate equazioni):\n",
    "$$\n",
    "\\begin{align}\n",
    "\\frac{E_1}{(1+\\alpha +\\beta)A} & = x\\% \\\\\n",
    "L_1 & = \\E\\big[\\1\\{default\\}L_1(1+s1) + \\frac{L_1}{L_1 + L}(1+\\alpha + \\beta)A)\\1\\{not default\\}\\big]\n",
    "\\end{align}\n",
    "$$\n",
    "dove con $default$ si intende l'evento:\n",
    "$$\n",
    "(1+\\alpha +\\beta)A \\geq L(1+s) + L_1(1+s1)\n",
    "$$\n",
    "L'equity $E_1$ deve chiaramente soddisfare a:\n",
    "$$\n",
    "E_1 = \\E\\big[ \\max\\big((1+\\alpha+\\beta)A - L(1+s)-L_1(1+s1), 0 \\big) \\big]\n",
    "$$"
   ]
  },
  {
   "cell_type": "code",
   "execution_count": 2,
   "metadata": {
    "collapsed": false
   },
   "outputs": [
    {
     "name": "stdout",
     "output_type": "stream",
     "text": [
      "0.0660052969378\n",
      "0.0660052177493 0.0111112245383 11.1111188521\n",
      "KVA:  -3.6017134839e-06\n"
     ]
    }
   ],
   "source": [
    "import math\n",
    "import numpy as np\n",
    "import scipy as sp\n",
    "import scipy.stats\n",
    "import scipy.optimize\n",
    "from scipy.integrate import quad\n",
    "\n",
    "def KVA_ratio(E, A, alpha, beta):\n",
    "    ratio =  E / (A * (1 + alpha + beta))\n",
    "    return ratio\n",
    "\n",
    "def KVA_E(A, vol, tau, L, s):\n",
    "    Ltot = L * (1 + s)\n",
    "    d2 = (math.log(A / Ltot) - 0.5 * vol * vol * tau) / (vol * math.sqrt(tau))\n",
    "    Nd2 = sp.stats.norm.cdf(d2)\n",
    "    d1 = (math.log(A / Ltot) + 0.5 * vol * vol * tau) / (vol * math.sqrt(tau))\n",
    "    Nd1 = sp.stats.norm.cdf(d1)\n",
    "    price = A * Nd1 - Ltot * Nd2\n",
    "    return price\n",
    "\n",
    "\n",
    "def KVA_s(A, vol, tau, L):\n",
    "    res = sp.optimize.minimize(\n",
    "        lambda x: (KVA_E(A, vol, tau, L, x) - (A - L)) ** 2,\n",
    "        [0.0],\n",
    "        bounds=[(0.00001, 0.2)], tol=1e-15)\n",
    "    return res.x[0]\n",
    "\n",
    "\n",
    "def KVA_E1(A, vol, tau, L, s, L1, s1, alpha, beta):\n",
    "    Ltot = L * (1 + s) + L1 * (1 + s1)\n",
    "    A0 = A * (1 + alpha + beta)\n",
    "    d2 = (math.log(A0 / Ltot) - 0.5 * vol * vol * tau) / (vol * math.sqrt(tau))\n",
    "    Nd2 = sp.stats.norm.cdf(d2)\n",
    "    d1 = (math.log(A0 / Ltot) + 0.5 * vol * vol * tau) / (vol * math.sqrt(tau))\n",
    "    Nd1 = sp.stats.norm.cdf(d1)\n",
    "    price = A0 * Nd1 - Ltot * Nd2\n",
    "    return price\n",
    "\n",
    "\n",
    "def KVA_L1(A, vol, tau, L, s, L1, s1, alpha, beta):\n",
    "    Ltot = L * (1 + s) + L1 * (1 + s1)\n",
    "    A0 = A * (1 + alpha + beta)\n",
    "    d2 = (math.log(A0 / Ltot) - 0.5 * vol * vol * tau) / (vol * math.sqrt(tau))\n",
    "    Nd2 = sp.stats.norm.cdf(d2)\n",
    "    survival_price = Nd2 * L1 * (1 + s1)\n",
    "    d1 = (math.log(A0 / Ltot) + 0.5 * vol * vol * tau) / (vol * math.sqrt(tau))\n",
    "    Nd1 = sp.stats.norm.cdf(-d1)\n",
    "    recovery_price = float(L1) / float(L1 + L) * A0 * Nd1\n",
    "    return survival_price + recovery_price\n",
    "\n",
    "\n",
    "def KVA_findparams(A, vol, tau, L, s, L1, ratio):\n",
    "    alpha = float(L1) / float(A)\n",
    "    res = sp.optimize.minimize(\n",
    "        lambda x: ((KVA_ratio(KVA_E1(A, vol, tau, L, s, L1, x[0], alpha, x[1]), A, alpha, x[1]) - ratio) ** 2 +\n",
    "                   (KVA_L1(A, vol, tau, L, s, L1, x[0], alpha, x[1]) - L1) ** 2),\n",
    "        [0.0, 0.0],\n",
    "        bounds=[(0.00001, 0.2), (0.00001, 0.1)],\n",
    "        tol=1e-15)\n",
    "    return res.x\n",
    "\n",
    "\n",
    "A = 100.0\n",
    "L = 90.0\n",
    "vol = 0.2\n",
    "tau = 1.0\n",
    "x = 0.1\n",
    "s = KVA_s(A, vol, tau, L)\n",
    "print s\n",
    "L1 = 10\n",
    "alpha = L1 / A\n",
    "s1, beta = KVA_findparams(A, vol, tau, L, s, L1, x)\n",
    "E1 = KVA_E1(A, vol, tau, L, s, L1, s1, alpha, beta)\n",
    "print s1, beta, E1\n",
    "print \"KVA: \", E1 - beta * A - (A-L)\n"
   ]
  },
  {
   "cell_type": "markdown",
   "metadata": {},
   "source": [
    "CVD! Il KVA è nullo. Ci sono altri due casi interessanti, sempre a parità di risk weight $w$, quando $A_1$ ha una volatilità maggiore e quando ce l'ha minore. Il problema di questi casi è che il modello diventa matematicamente complicato... Ma non troppo; alla fine dovrebbe essere risolvibile con integrazioni numeriche bidimensionali.\n",
    "Le equazioni da risolvere contemporaneamente sono:\n",
    "$$\n",
    "\\begin{align}\n",
    "\\frac{\\E\\big[ \\max\\big((1+\\alpha)A + A_1 - L(1+s)-L_1(1+s1), 0 \\big) \\big]}{w(1+\\alpha)A+w_1A_1} & = x\\% \\\\\n",
    "\\E\\big[\\1\\{notdefault\\}L_1(1+s1) + \\frac{L_1}{L_1 + L}\\big((1+\\alpha)A + A_1\\big)\\1\\{default\\}\\big] & = L\n",
    "\\end{align}\n",
    "$$\n",
    "dove con $default$ si intende l'evento:\n",
    "$$\n",
    "(1+\\alpha)A + A_1 \\geq L(1+s) + L_1(1+s1)\n",
    "$$\n"
   ]
  },
  {
   "cell_type": "code",
   "execution_count": 8,
   "metadata": {
    "collapsed": false
   },
   "outputs": [
    {
     "name": "stdout",
     "output_type": "stream",
     "text": [
      "0.0660052969378\n",
      "0.0660052177493 0.0111112245383 11.1111188521\n",
      "vol = vol1 (same w) -> KVA:  -3.6017134839e-06\n",
      "s1:  0.0893251568764 , alpha:  1e-05\n",
      "vol1 > vol -> KVA-FVA:  1.06440313688\n",
      "s1:  0.0551158319144 , alpha:  0.0172202080668\n",
      "vol1 < vol -> KVA-FVA:  -0.549810760755\n",
      "s1:  0.0553706252007 , alpha:  0.00577138494098\n",
      "vol1 = 0., w1 = 0. -> KVA-FVA:  -0.519418911881\n",
      "ratio:  0.100000056999\n"
     ]
    }
   ],
   "source": [
    "import math\n",
    "import numpy as np\n",
    "import scipy as sp\n",
    "import scipy.stats\n",
    "import scipy.optimize\n",
    "from scipy.integrate import quad\n",
    "\n",
    "class BiDimensionalCall(object):\n",
    "    def __init__(self, A, B, K, vols, rho, t):\n",
    "        self.A = A * math.exp(-0.5 * vols[0] * vols[0] * t)\n",
    "        self.B = B * math.exp(-0.5 * vols[1] * vols[1] * t)\n",
    "        self.vols = np.array(vols) * math.sqrt(t)\n",
    "        self.rho = rho\n",
    "        self.a00 = 1. / (self.vols[0] * self.vols[0] * (1 - rho * rho))\n",
    "        self.a11 = 1. / (self.vols[1] * self.vols[1] * (1 - rho * rho))\n",
    "        self.a01 = - rho / ((1. - rho * rho) * self.vols[0] * self.vols[1])\n",
    "        self.K = K\n",
    "        self.sigmabar = self.vols[0] * math.sqrt(1 - rho * rho)\n",
    "        self.t = t\n",
    "\n",
    "    def xa_bar(self, xa):\n",
    "        first = self.A * math.exp(xa)\n",
    "        second = self.B * math.exp(self.xb)\n",
    "        return first + second - self.K\n",
    "\n",
    "    def integrand(self, xb):\n",
    "        self.xb = xb\n",
    "        xabar = scipy.optimize.newton(self.xa_bar, 0.)\n",
    "        mu = - self.a01 * xb / self.a00\n",
    "        d1 = (xabar - mu) / self.sigmabar - self.sigmabar\n",
    "        d2 = (xabar - mu) / self.sigmabar\n",
    "        first = self.A * math.exp(mu + 0.5 * self.sigmabar * self.sigmabar) * sp.stats.norm.cdf(-d1)\n",
    "        second = self.B * math.exp(xb) * sp.stats.norm.cdf(-d2)\n",
    "        third = self.K * sp.stats.norm.cdf(-d2)\n",
    "        pdf = math.exp(-0.5 * self.a11 * xb * xb + 0.5 * self.a01 * self.a01 / self.a00 * xb * xb) / (math.sqrt(2 * math.pi) * self.vols[1])\n",
    "        summation = first + second - third\n",
    "        return summation * pdf\n",
    "\n",
    "    def prob_surv_integrand(self, xb):\n",
    "        self.xb = xb\n",
    "        xabar = scipy.optimize.newton(self.xa_bar, 0.)\n",
    "        mu = - self.a01 * xb / self.a00\n",
    "        d2 = (xabar - mu) / self.sigmabar\n",
    "        third = sp.stats.norm.cdf(-d2)\n",
    "        pdf = math.exp(-0.5 * self.a11 * xb * xb + 0.5 * self.a01 * self.a01 / self.a00 * xb * xb) / (math.sqrt(2 * math.pi) * self.vols[1])\n",
    "        return third * pdf\n",
    "\n",
    "    def prob_surv(self):\n",
    "        lbound = -6. * self.vols[1]\n",
    "        ubound = 6. * self.vols[1]\n",
    "        return scipy.integrate.quad(self.prob_surv_integrand, lbound, ubound)[0]\n",
    "\n",
    "    def prob_def_integrand(self, xb):\n",
    "        self.xb = xb\n",
    "        xabar = scipy.optimize.newton(self.xa_bar, 0.)\n",
    "        mu = - self.a01 * xb / self.a00\n",
    "        d1 = (xabar - mu) / self.sigmabar - self.sigmabar\n",
    "        d2 = (xabar - mu) / self.sigmabar\n",
    "        first = self.A * math.exp(mu + 0.5 * self.sigmabar * self.sigmabar) * sp.stats.norm.cdf(d1)\n",
    "        second = self.B * math.exp(xb) * sp.stats.norm.cdf(d2)\n",
    "        pdf = math.exp(-0.5 * self.a11 * xb * xb + 0.5 * self.a01 * self.a01 / self.a00 * xb * xb) / (math.sqrt(2 * math.pi) * self.vols[1])\n",
    "        return (first + second) * pdf\n",
    "\n",
    "    def prob_def(self):\n",
    "        lbound = -6. * self.vols[1]\n",
    "        ubound = 6. * self.vols[1]\n",
    "        return scipy.integrate.quad(self.prob_def_integrand, lbound, ubound)[0]\n",
    "\n",
    "    def price(self):\n",
    "        lbound = -6. * self.vols[1]\n",
    "        ubound = 6. * self.vols[1]\n",
    "        return scipy.integrate.quad(self.integrand, lbound, ubound)[0]\n",
    "\n",
    "\n",
    "def KVA2d_E1(A, vol, A1, vol1, rho, tau, L, s, L1, s1, alpha):\n",
    "    call = BiDimensionalCall(A * (1 + alpha), A1, L * (1 + s) + L1 * (1 + s1), [vol, vol1], rho, tau)\n",
    "    return call.price()\n",
    "\n",
    "\n",
    "def KVA2d_L1(A, vol, A1, vol1, rho, tau, L, s, L1, s1, alpha):\n",
    "    call = BiDimensionalCall(A * (1 + alpha), A1, float(L) * (1 + s) + float(L1) * (1 + s1), [vol, vol1], rho, tau)\n",
    "    probdef = call.prob_def()\n",
    "    default_price = call.prob_def() * float(L1) / (float(L1) + float(L))\n",
    "    probsurv = call.prob_surv()\n",
    "    survival_price = probsurv * float(L1) * (1 + s1)\n",
    "    return default_price + survival_price\n",
    "\n",
    "def KVA2d_ratio(E, A, w, A1, w1, alpha):\n",
    "    ratio =  E / (w * A * (1 + alpha) + w1 * A1)\n",
    "    return ratio\n",
    "\n",
    "\n",
    "def KVA2D_findparams(A, w, vol, A1, w1, vol1, rho, tau, L, s, L1,ratio):\n",
    "    res = sp.optimize.minimize(\n",
    "        lambda x: ((KVA2d_ratio(KVA2d_E1(A, vol, A1, vol1, rho, tau, L, s, L1, x[0], x[1]), A, w, A1, w1, x[1]) - ratio) ** 2 +\n",
    "                   (KVA2d_L1(A, vol, A1, vol1, rho, tau, L, s, L1, x[0], x[1]) - L1) ** 2),\n",
    "        [0.0, 0.0],\n",
    "        bounds=[(0.00001, 0.2), (0.00001, 0.1)],\n",
    "        tol=1e-15)\n",
    "    return res.x\n",
    "\n",
    "A = 100.0\n",
    "L = 90.0\n",
    "vol = 0.2\n",
    "tau = 1.0\n",
    "x = 0.1\n",
    "s = KVA_s(A, vol, tau, L)\n",
    "print s\n",
    "L1 = 10.\n",
    "alpha = L1 / A\n",
    "s1, beta = KVA_findparams(A, vol, tau, L, s, L1, x)\n",
    "E1 = KVA_E1(A, vol, tau, L, s, L1, s1, alpha, beta)\n",
    "print s1, beta, E1\n",
    "print \"vol = vol1 (same w) -> KVA: \", E1 - beta * A - (A-L)\n",
    "\n",
    "A1 = 10.\n",
    "vol1 = 0.4\n",
    "rho = 0.9999999\n",
    "alpha = beta\n",
    "w = 1.\n",
    "w1 = 1.\n",
    "s1, alpha = KVA2D_findparams(A, w, vol, A1, w1, vol1, rho, tau, L, s, L1, x)\n",
    "print \"s1: \", s1, \", alpha: \", alpha\n",
    "E1 = KVA2d_E1(A, vol, A1, vol1, rho, tau, L, s, L1, s1, alpha)\n",
    "E = A - L\n",
    "KVA = E1 - (A*(1+alpha) - L)\n",
    "print \"vol1 > vol -> KVA-FVA: \", KVA\n",
    "\n",
    "vol1 = 0.1\n",
    "s1, alpha = KVA2D_findparams(A, w, vol, A1, w1, vol1, rho, tau, L, s, L1, x)\n",
    "print \"s1: \", s1, \", alpha: \", alpha\n",
    "E1 = KVA2d_E1(A, vol, A1, vol1, rho, tau, L, s, L1, s1, alpha)\n",
    "E = A - L\n",
    "KVA = E1 - (A*(1+alpha) - L)\n",
    "print \"vol1 < vol -> KVA-FVA: \", KVA\n",
    "\n",
    "vol1 = 0.000001\n",
    "w1 = 0.\n",
    "s1, alpha = KVA2D_findparams(A, w, vol, A1, w1, vol1, rho, tau, L, s, L1, x)\n",
    "print \"s1: \", s1, \", alpha: \", alpha\n",
    "E1 = KVA2d_E1(A, vol, A1, vol1, rho, tau, L, s, L1, s1, alpha)\n",
    "E = A - L\n",
    "KVA = E1 - (A*(1+alpha) - L)\n",
    "print \"vol1 = 0., w1 = 0. -> KVA-FVA: \", KVA\n",
    "print \"ratio: \", KVA2d_ratio(E1, A, w, A1, w1, alpha)\n"
   ]
  }
 ],
 "metadata": {
  "celltoolbar": "Slideshow",
  "kernelspec": {
   "display_name": "Python 2",
   "language": "python",
   "name": "python2"
  },
  "language_info": {
   "codemirror_mode": {
    "name": "ipython",
    "version": 2
   },
   "file_extension": ".py",
   "mimetype": "text/x-python",
   "name": "python",
   "nbconvert_exporter": "python",
   "pygments_lexer": "ipython2",
   "version": "2.7.8"
  }
 },
 "nbformat": 4,
 "nbformat_minor": 2
}
