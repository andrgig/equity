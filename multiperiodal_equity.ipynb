{
 "cells": [
  {
   "cell_type": "markdown",
   "metadata": {},
   "source": [
    "$$\n",
    "\\def\\E{\\mathbb{E}}\n",
    "\\def\\1{\\mathbb{1}}\n",
    "$$\n",
    "In questo modello multiperiodale un'azienda fallisce quando alla scadenza del proprio debito il valore degli attivi si trova al di sotto di una soglia fissa K. Nel caso in cui si trovi sopra l'azienda può accedere ad un nuovo finziamento, ovviamente ad uno spread maggiore del precedente qualora gli attivi siano scesi (minore se saliti).\n",
    "L'azienda rinnova i propri finanziamenti ogni $\\tau$ anni, in teoria per sempre. Per motivi numerici è opportuno inserire una scadenza $T >> \\tau.$\n",
    "Ad ogni data di rinnovo $t = i \\cdot \\tau$ (dove i = 0,...,N), i finanziatori dell'azienda determinano lo spread minimo a cui sono dispositi a prestare soldi dalla seguente relazione:\n",
    "$$\n",
    "L(t) = \\E\\big[L(t)\\cdot(1+s(t))\\1_{\\{A(t+\\tau) > K\\}} + A(t+\\tau)\\1_{\\{A(t+\\tau < K\\}}\n",
    "|\\mathcal{F}_t\\big]\n",
    "$$\n",
    "Lo spread si può quindi determinare come:\n",
    "$$\n",
    "s(t) = \\frac{1}{L \\cdot N(d_2)}\\big[ L(t)\\cdot \\big(\\1-N(d_2)\\big) - A(t)\\cdot\\big(1-N(d_1)\\big)\\big]\n",
    "$$\n",
    "dove $L(t)$ è calcolabile partendo dal finanziamento originario in $t = 0$ come:\n",
    "$$\n",
    "L(t=i\\tau) = \\prod_{j=0}^{j=i-1}(1+s(j\\tau))L(0)\n",
    "$$\n",
    "La valutazione dell'equity potrebbe essere quindi effettuata in modalità forward (ad esempio tramite montecarlo) fino alla scadenza fittizia T attualizzando:\n",
    "* 0, nel caso in cui esista un A(t) < K\n",
    "* $max(A(T) - L(T), 0)$ se arriva a scadenza\n",
    "\n",
    "Questo modello ha una cosenguenza, ovvero che il default non dipende dalla storia del passivo (solo il payoff ne dipende). Vederemo in seguito se possibile cambiare qualche assunzione.\n"
   ]
  },
  {
   "cell_type": "code",
   "execution_count": 147,
   "metadata": {
    "collapsed": true
   },
   "outputs": [],
   "source": [
    "A = 100"
   ]
  },
  {
   "cell_type": "code",
   "execution_count": 148,
   "metadata": {
    "collapsed": true
   },
   "outputs": [],
   "source": [
    "K = 50"
   ]
  },
  {
   "cell_type": "code",
   "execution_count": 149,
   "metadata": {
    "collapsed": true
   },
   "outputs": [],
   "source": [
    "vol = 0.2"
   ]
  },
  {
   "cell_type": "code",
   "execution_count": 150,
   "metadata": {
    "collapsed": true
   },
   "outputs": [],
   "source": [
    "tau = 1.0"
   ]
  },
  {
   "cell_type": "code",
   "execution_count": 151,
   "metadata": {
    "collapsed": true
   },
   "outputs": [],
   "source": [
    "L = 90.0"
   ]
  },
  {
   "cell_type": "code",
   "execution_count": 152,
   "metadata": {
    "collapsed": true
   },
   "outputs": [],
   "source": [
    "T = 50"
   ]
  },
  {
   "cell_type": "code",
   "execution_count": 153,
   "metadata": {
    "collapsed": true
   },
   "outputs": [],
   "source": [
    "import numpy as np\n",
    "import scipy as sp\n",
    "import scipy.stats\n",
    "import math"
   ]
  },
  {
   "cell_type": "code",
   "execution_count": 154,
   "metadata": {
    "collapsed": false
   },
   "outputs": [],
   "source": [
    "def s(At, Lt):\n",
    "    d1 = (math.log(At / K) + (0.5 * vol ** 2) * tau) / (vol * math.sqrt(tau))\n",
    "    d2 = (math.log(At / K) - (0.5 * vol ** 2) * tau) / (vol * math.sqrt(tau))\n",
    "    Nd1 = sp.stats.norm.cdf(d1)\n",
    "    Nd2 = sp.stats.norm.cdf(d2)   \n",
    "    spread = (Lt*(1-Nd2) - At * (1-Nd1)) / (L*Nd2)\n",
    "    return spread"
   ]
  },
  {
   "cell_type": "code",
   "execution_count": 155,
   "metadata": {
    "collapsed": false
   },
   "outputs": [
    {
     "name": "stdout",
     "output_type": "stream",
     "text": [
      "0.000180191679296\n"
     ]
    }
   ],
   "source": [
    "print s(A,L)"
   ]
  },
  {
   "cell_type": "code",
   "execution_count": 156,
   "metadata": {
    "collapsed": false
   },
   "outputs": [],
   "source": [
    "def pathGen(runs):\n",
    "    np.random.seed(1)\n",
    "    nsteps = int((T / tau) + 1)\n",
    "    vol2 = vol * vol\n",
    "    epsilon = np.random.normal(0, 1, (runs, nsteps - 1))\n",
    "    paths = np.ones((nsteps, runs))\n",
    "    paths[0,:] = A\n",
    "    for i in range(nsteps)[1:]:\n",
    "        paths[i,:] = paths[i-1,:] * np.exp(-0.5*vol2 * tau + vol * math.sqrt(tau) * epsilon[:,i-1])\n",
    "    return paths"
   ]
  },
  {
   "cell_type": "code",
   "execution_count": 157,
   "metadata": {
    "collapsed": true
   },
   "outputs": [],
   "source": [
    "def payoff(path):\n",
    "    np.seterr('raise')\n",
    "    # Check for default\n",
    "    if min(path) < K:\n",
    "        return 0.\n",
    "    \n",
    "    # Compute the spread\n",
    "    try:\n",
    "        Lt = L\n",
    "        for i in range(len(path) - 1):\n",
    "            spread = s(path[i], Lt)\n",
    "            Lt = Lt * (1 + spread)\n",
    "    except:\n",
    "        return 0\n",
    "    \n",
    "    return max(path[-1] - Lt,0)"
   ]
  },
  {
   "cell_type": "code",
   "execution_count": 158,
   "metadata": {
    "collapsed": false
   },
   "outputs": [],
   "source": [
    "runs = 10000\n"
   ]
  },
  {
   "cell_type": "code",
   "execution_count": 159,
   "metadata": {
    "collapsed": false
   },
   "outputs": [],
   "source": [
    "def E():\n",
    "    paths = pathGen(runs)\n",
    "    payoffs = np.ones(runs)\n",
    "    for i in range(runs):\n",
    "        payoffs[i] = payoff(paths[:,i])\n",
    "    return payoffs.mean()\n",
    "        "
   ]
  },
  {
   "cell_type": "code",
   "execution_count": 160,
   "metadata": {
    "collapsed": false
   },
   "outputs": [
    {
     "name": "stdout",
     "output_type": "stream",
     "text": [
      "43.4665855053\n"
     ]
    }
   ],
   "source": [
    "print E()"
   ]
  },
  {
   "cell_type": "markdown",
   "metadata": {},
   "source": [
    "Questo modello non funziona, dovremmo ottenere un numero vicino a A - L iniziali. Ci sono più motivi:\n",
    "* è difficile capire qual è il payoff a scadenza: ho messo il max tra A - L e 0 poiché l'equity non può diventare negativa, ma così facendo il problema non è ben specificato. Ci sono path che terminano con A vicino a K, $L(T)$ enorme e nessuno che soffre A - L. Anche togliendo il max dalla condizione finale non sembra risolvere\n",
    "* L può crescere indiscriminatamente senza portare al fallimento, con problemi (numerici e concettuali) enormi.\n",
    "\n",
    "E' necessario cambiare le specifiche del modello, inserendo una condizione di fallimento differente Stavo pensando di inserire una condizione sullo spread, ma credo che questo porti alla necessità di risolvere il problema backward.\n",
    "Come primo tentativo per ovviare a questo problema si può ipotizzare come condizione di fallimento quella in cui gli attivi si trovano al di sotto di una percentuale $X$ dei passivi emessi alla data precedente."
   ]
  },
  {
   "cell_type": "code",
   "execution_count": 161,
   "metadata": {
    "collapsed": true
   },
   "outputs": [],
   "source": [
    "X = 0.4"
   ]
  },
  {
   "cell_type": "code",
   "execution_count": 162,
   "metadata": {
    "collapsed": false
   },
   "outputs": [],
   "source": [
    "def s_perc(At, Lt):\n",
    "    d1 = (math.log(At / (Lt * X)) + (0.5 * vol ** 2) * tau) / (vol * math.sqrt(tau))\n",
    "    d2 = (math.log(At / (Lt * X)) - (0.5 * vol ** 2) * tau) / (vol * math.sqrt(tau))\n",
    "    Nd1 = sp.stats.norm.cdf(d1)\n",
    "    Nd2 = sp.stats.norm.cdf(d2)   \n",
    "    spread = (Lt*(1-Nd2) - At * (1-Nd1)) / (L*Nd2)\n",
    "    return spread"
   ]
  },
  {
   "cell_type": "markdown",
   "metadata": {},
   "source": [
    "Il problema, come nel caso precedente, è quello di trovare un payoff terminale adeguato. Probabilmente la cosa migliore è ipotizzare, per quanto assurdo, che all'ultimo periodo valga il modello uniperiodale alla Merton e valutare la condizione terminale a $T - \\tau$ con il valore dell'equity dato dal valore della call. Rispetto a come ho tratto il caso precedente devo quindi inserire un ulteriore funzione per la deteriminazione dello spread e la funzione di pricing dell'equity."
   ]
  },
  {
   "cell_type": "code",
   "execution_count": 163,
   "metadata": {
    "collapsed": true
   },
   "outputs": [],
   "source": [
    "def bs(A, L):\n",
    "    d1 = (math.log(A / L) + (0.5 * vol ** 2) * tau) / (vol * math.sqrt(tau))\n",
    "    d2 = (math.log(A / L) - (0.5 * vol ** 2) * tau) / (vol * math.sqrt(tau))\n",
    "    call_price = A * sp.stats.norm.cdf(d1) - L * sp.stats.norm.cdf(d2)   \n",
    "    put_price = L * sp.stats.norm.cdf(-d2) - A * sp.stats.norm.cdf(-d1)\n",
    "    return put_price, call_price"
   ]
  },
  {
   "cell_type": "code",
   "execution_count": 164,
   "metadata": {
    "collapsed": true
   },
   "outputs": [],
   "source": [
    "def b1(A, L, s):\n",
    "    put, call = bs(A, L * (1+s))\n",
    "    return L * (1 + s) - put"
   ]
  },
  {
   "cell_type": "code",
   "execution_count": 165,
   "metadata": {
    "collapsed": true
   },
   "outputs": [],
   "source": [
    "def s_merton(A, L):\n",
    "    res = sp.optimize.minimize(\n",
    "    lambda s: (b1(A, L, s) - L) ** 2,\n",
    "    [0.0],\n",
    "    bounds=[(-0.1, 1.0)])\n",
    "    return res.x[0]\n"
   ]
  },
  {
   "cell_type": "code",
   "execution_count": 166,
   "metadata": {
    "collapsed": true
   },
   "outputs": [],
   "source": [
    "def e_merton(A, L, s):\n",
    "    put, call = bs(A, L * (1+s))\n",
    "    return call"
   ]
  },
  {
   "cell_type": "code",
   "execution_count": 167,
   "metadata": {
    "collapsed": true
   },
   "outputs": [],
   "source": [
    "def payoff_perc(path):\n",
    "    Lt = L\n",
    "    for i in range(len(path) - 1):\n",
    "        if path[i+1] < X * Lt:\n",
    "            # Default\n",
    "            return 0\n",
    "        if i == (len(path) - 2):\n",
    "            spread = s_merton(path[i], Lt)\n",
    "            return e_merton(path[i], Lt, spread)\n",
    "        else:\n",
    "            spread = s_perc(path[i], Lt)\n",
    "\n",
    "        Lt = Lt * (1 + spread)\n",
    "    \n",
    "    return max(path[-1] - Lt,0)"
   ]
  },
  {
   "cell_type": "code",
   "execution_count": 168,
   "metadata": {
    "collapsed": true
   },
   "outputs": [],
   "source": [
    "def E_perc():\n",
    "    paths = pathGen(runs)\n",
    "    payoffs = np.ones(runs)\n",
    "    for i in range(runs):\n",
    "        payoffs[i] = payoff_perc(paths[:,i])\n",
    "    return payoffs.mean()"
   ]
  },
  {
   "cell_type": "code",
   "execution_count": 169,
   "metadata": {
    "collapsed": false
   },
   "outputs": [
    {
     "name": "stdout",
     "output_type": "stream",
     "text": [
      "48.0665248717\n"
     ]
    }
   ],
   "source": [
    "print E_perc()"
   ]
  },
  {
   "cell_type": "markdown",
   "metadata": {},
   "source": [
    "Anche questo modello non funziona. Il problema credo dipenda dal fatto che in realtà queste specifiche non sono corrette. Ad esempio nel modello di Merton base il caso in cui il forward degli asset è inferiore al passivo non è ammissibile: non esiste nessun ente disposto a finanziare questo tipo di aziena. Sotto l'esempio numerico di un'aziena che ha debito per 100 e forward degli asset parti a 99.9."
   ]
  },
  {
   "cell_type": "code",
   "execution_count": 170,
   "metadata": {
    "collapsed": false
   },
   "outputs": [
    {
     "name": "stdout",
     "output_type": "stream",
     "text": [
      "1.0\n"
     ]
    }
   ],
   "source": [
    "print s_merton(99.9, 100)"
   ]
  },
  {
   "cell_type": "markdown",
   "metadata": {},
   "source": [
    "Ovvero lo spread massimo possibile del risolutore numerico pari al 1000%. Quindi, ipotizzare che valga Merton alla scadenza non è opportuno dato che il valore dell'attivo può scendere al di sotto del passivo. Anzi, la possibilità di un rifinanziamento tramite la sola emissione di nuovi bond in questi casi non è mai verosimile: c'è evidentemente da affrontre il modello in modo molto differente.\n",
    "Mi vengono in mente due possibilità:\n",
    "\n",
    "1. La condizione di fallimento, anche in modello multiperiodale, è quella in cui gli attivi si trovino al di sotto delle liabilities da ripagare.\n",
    "2. Nel caso in cui gli attivi siano al di sotto delle liabilities ma sopra lo il livello di fallimento (ad es. $X \\cdot L$), viene effettuato un aumento di capitale. Rimane il problema di cosa succede all'ultimo periodo.\n",
    "\n",
    "Direi di procedere con la 1. Entrambe i casi possono essere affrontati in due modi differenti:\n",
    "1. con un rifinanziamento periodico tramite passivo caratterizzato da un'unica scadenza (come assunto finora)\n",
    "2. ipotizzando che vi sia una struttura a termine del passivo che viene di volta in volta rollata. \n",
    "\n",
    "Si procede con 1.\n",
    "In questo modello, ai fini della valutazione dell'equity e dei bond/spread, dovrebbe essere rilevante solo il primo periodo. Adesso lo verifico empiricamente...\n"
   ]
  },
  {
   "cell_type": "code",
   "execution_count": 171,
   "metadata": {
    "collapsed": true
   },
   "outputs": [],
   "source": [
    "def payoff_multi_merton_1(path):\n",
    "    Lt = L\n",
    "    for i in range(len(path) - 1):\n",
    "        spread = s_merton(path[i], Lt)\n",
    "        Lt = Lt * (1 + spread)\n",
    "        if path[i+1] < Lt:\n",
    "            return 0\n",
    "        if i == (len(path) - 2):\n",
    "            return max(path[-1] - Lt,0)\n"
   ]
  },
  {
   "cell_type": "code",
   "execution_count": 172,
   "metadata": {
    "collapsed": true
   },
   "outputs": [],
   "source": [
    "def E_multi_merton_1():\n",
    "    paths = pathGen(runs)\n",
    "    payoffs = np.ones(runs)\n",
    "    for i in range(runs):\n",
    "        payoffs[i] = payoff_multi_merton_1(paths[:,i])\n",
    "    return payoffs.mean()"
   ]
  },
  {
   "cell_type": "code",
   "execution_count": 173,
   "metadata": {
    "collapsed": false
   },
   "outputs": [],
   "source": [
    "T = 20"
   ]
  },
  {
   "cell_type": "raw",
   "metadata": {},
   "source": [
    "runs = 1000"
   ]
  },
  {
   "cell_type": "code",
   "execution_count": 174,
   "metadata": {
    "collapsed": false
   },
   "outputs": [
    {
     "name": "stdout",
     "output_type": "stream",
     "text": [
      "10.7570490754\n"
     ]
    }
   ],
   "source": [
    "print E_multi_merton_1()"
   ]
  },
  {
   "cell_type": "markdown",
   "metadata": {},
   "source": [
    "Direi che ci siamo (ci si aspettava un valore prossimo a $A(0) - L(0)$). Se il valore dell'equity è determinato univocamente dal primo periodo, a cosa ci serve un modello multiperiodale? Uno degli obiettivi è quello di capire come varia l'equity quando viene incrementato l'attivo mediante emissione di nuovo finanziamento (cambiando la rischiosità dell'attivo). A titolo di esempio prendiamo il caso in cui l'aziena acquisti, per un ammontare C, un bond risk free con scadenza pari a $\\tau$ e rendimento nullo. L'equity prima di questa operazione vale evidentemente $A(0) - L(0)$ e su L viene pagato lo spread di Merton. \n",
    "Dopo questa operazione l'equity cambia valore:\n",
    "$$\n",
    "E_2 = \\E[ \\max(0, A(T) + C - L(1+s) - C(1+s')) ]\n",
    "$$\n",
    "dove s è lo spread prima dell'operazione, s' quello successivo, per determinare il quale si deve risolvere la seguente equazione:\n",
    "$$\n",
    "\\begin{align}\n",
    "C &= \\E[ \\min(C(1+s'),  (A(T) + C) \\frac{C}{L+C}) ] \\\\\n",
    "&= \\frac{C}{L+C} \\E[ \\min(C(1+s')\\frac{L+C}{C}, A(T) + C) ] \\\\\n",
    "&= \\frac{C}{L+C} \\E[ \\min(C(1+s')\\frac{L+C}{C} - C, A(T)) + C ] \\\\\n",
    "&= \\frac{C}{L+C} \\E[ \\min((1+s')(L+C) - C, A(T)) ] + \\frac{C^2}{L+C} \\\\\n",
    "\\end{align}\n",
    "$$\n",
    "dove è stato ipotizzato un recovery proporzionale al face value del debito."
   ]
  },
  {
   "cell_type": "code",
   "execution_count": 175,
   "metadata": {
    "collapsed": true
   },
   "outputs": [],
   "source": [
    "def C_price(A, L, C, sprime):\n",
    "    strike = (L + C) * (1 + sprime) - C\n",
    "    put, call = bs(A, strike)\n",
    "    return C / (L + C) * (strike - put) + (C ** 2) / (L + C)"
   ]
  },
  {
   "cell_type": "code",
   "execution_count": 176,
   "metadata": {
    "collapsed": true
   },
   "outputs": [],
   "source": [
    "def e2(A, L, s, sprime):\n",
    "    put, call = bs(A, L * (1 + s) + C * sprime)\n",
    "    return call"
   ]
  },
  {
   "cell_type": "code",
   "execution_count": 177,
   "metadata": {
    "collapsed": true
   },
   "outputs": [],
   "source": [
    "def sprime(A, L, C):\n",
    "    res = sp.optimize.minimize(\n",
    "    lambda s: (C_price(A, L, C, s) - C) ** 2,\n",
    "    [0.0],\n",
    "    bounds=[(-0.5, 1.0)])\n",
    "    return res.x[0]\n"
   ]
  },
  {
   "cell_type": "code",
   "execution_count": 178,
   "metadata": {
    "collapsed": true
   },
   "outputs": [],
   "source": [
    "s = s_merton(A, L)"
   ]
  },
  {
   "cell_type": "code",
   "execution_count": 179,
   "metadata": {
    "collapsed": false
   },
   "outputs": [
    {
     "data": {
      "text/plain": [
       "0.066005296966200763"
      ]
     },
     "execution_count": 179,
     "metadata": {},
     "output_type": "execute_result"
    }
   ],
   "source": [
    "s"
   ]
  },
  {
   "cell_type": "code",
   "execution_count": 180,
   "metadata": {
    "collapsed": false
   },
   "outputs": [],
   "source": [
    "C=20"
   ]
  },
  {
   "cell_type": "code",
   "execution_count": 185,
   "metadata": {
    "collapsed": false
   },
   "outputs": [],
   "source": [
    "s_prime = sprime(A, L, C)"
   ]
  },
  {
   "cell_type": "code",
   "execution_count": 186,
   "metadata": {
    "collapsed": false
   },
   "outputs": [
    {
     "data": {
      "text/plain": [
       "0.11765978817335848"
      ]
     },
     "execution_count": 186,
     "metadata": {},
     "output_type": "execute_result"
    }
   ],
   "source": [
    "s_prime"
   ]
  },
  {
   "cell_type": "code",
   "execution_count": 187,
   "metadata": {
    "collapsed": false
   },
   "outputs": [
    {
     "data": {
      "text/plain": [
       "9.0864645711136518"
      ]
     },
     "execution_count": 187,
     "metadata": {},
     "output_type": "execute_result"
    }
   ],
   "source": [
    "e2(A, L, s, s_prime)"
   ]
  },
  {
   "cell_type": "markdown",
   "metadata": {},
   "source": [
    "Quindi l'equity diminuisce. Adesso vediamo cosa succede nell'ipotesi in cui il bond acquistato C abbia una maturity pari a 2 $\\tau$. A $t = \\tau$ deve essere rifinanziato (nel caso in cui non ci sia fallimento), un importo pari a $L(1+s) + C(1+s_{prime})$ ad un nuovo spread $s_2$. Il nuovo spread soddisfa la seguente equazione:\n",
    "$$\n",
    "\\begin{align}\n",
    "L(1+s) + C(1+s_{prime}) = L_{tot}  &= \\E\\big[\\min(L_{tot} \\cdot (1 + s_2), A(2\\tau) + C)\\big]  \\\\\n",
    " & = \\E\\big[\\min(L_{tot} \\cdot (1 + s_2) - C, A(2\\tau))\\big] + C\n",
    "\\end{align}\n",
    "$$"
   ]
  },
  {
   "cell_type": "code",
   "execution_count": 190,
   "metadata": {
    "collapsed": false
   },
   "outputs": [
    {
     "name": "stdout",
     "output_type": "stream",
     "text": [
      "Bond con maturity = tau\n",
      "0.0660052969662 0.0540043347963 9.42588258816\n",
      "Bond con maturity = 2*tau\n",
      "Single financing\n",
      "0.143806407453 0.117659788173 9.08646457111\n",
      "Rolling financing\n",
      "0.0660052969662 0.0540043347963 9.597729068\n"
     ]
    }
   ],
   "source": [
    "def C2_price(A, Ltot, C, s2):\n",
    "    strike = Ltot * (1 + s2) - C\n",
    "    put, call = bs(A, strike)\n",
    "    return (strike - put) + C\n",
    "\n",
    "def s2(A, Ltot, C):\n",
    "    res = sp.optimize.minimize(\n",
    "    lambda s: (C2_price(A, Ltot, C, s) - Ltot) ** 2,\n",
    "    [0.0],\n",
    "    bounds=[(-0.5, 1.0)])\n",
    "    return res.x[0]\n",
    "\n",
    "T = 2.\n",
    "runs = 10000\n",
    "A = 100.0\n",
    "L = 90.0\n",
    "C = 20.0\n",
    "# Prima proviamo con un singolo finanziamento lungo tau = 2\n",
    "print \"Bond con maturity = tau\"\n",
    "tau = 1.\n",
    "s = s_merton(A, L)\n",
    "s_prime = sprime(A, L, C)\n",
    "print s, s_prime, e2(A, L, s, s_prime)\n",
    "\n",
    "print \"Bond con maturity = 2*tau\"\n",
    "print \"Single financing\"\n",
    "tau = 2.\n",
    "s = s_merton(A, L)\n",
    "s_prime = sprime(A, L, C)\n",
    "print s, s_prime, e2(A, L, s, s_prime)\n",
    "# Ora con 2 finanziamenti\n",
    "print \"Rolling financing\"\n",
    "tau = 1.0\n",
    "paths = pathGen(runs)\n",
    "payoffs = np.zeros(runs)\n",
    "s = s_merton(A, L)\n",
    "s_prime = sprime(A, L, C)\n",
    "totL1 = L*(1+s) + C*(1+s_prime)\n",
    "\n",
    "for i in range(runs):\n",
    "    if (paths[1, i] + C) < totL1:\n",
    "         payoffs[i] = 0.\n",
    "    else:\n",
    "        # Find the new spread\n",
    "        s_2 = s2(paths[1, i], totL1, C)\n",
    "        payoffs[i] = max(paths[2, i] + C - totL1 * (1 + s_2), 0.)\n",
    "print s, s_prime, payoffs.mean()\n"
   ]
  },
  {
   "cell_type": "markdown",
   "metadata": {},
   "source": [
    "La diminuzione in valore dell'equity rollando il finanziamento è la medesima (a meno dell'errore montecarlo) che si ha nel caso in cui l'obbligazione C ha una maturity pari a $\\tau$: dipende quindi non dalla scadenza del titolo, ma dalla frequenza di rifinanziamento. Questo si poteva evincere anche da quanto osservato prima relativamente al modello rolling di Merton: nel caso in esempio in cui la maturity è pari a $2\\tau$, alla data di rifinanziamento $\\tau$ il valore dell'equity sarà pari al $\\max(A(\\tau) + C - L\\cdot(1 + s)(1+s'),0)$, esattamente lo stesso del caso in cui il bond dura $\\tau$."
   ]
  },
  {
   "cell_type": "markdown",
   "metadata": {
    "collapsed": true
   },
   "source": [
    "Domanda di intermezzo: dopo ogni periodo, se l'azienda ha prodotto utili (i.e. gli asset sono saliti), l'equity potrebbe essere remunerato liquidando parte degli attivi. Questo influisce o meno?"
   ]
  },
  {
   "cell_type": "code",
   "execution_count": null,
   "metadata": {
    "collapsed": false
   },
   "outputs": [],
   "source": []
  },
  {
   "cell_type": "code",
   "execution_count": null,
   "metadata": {
    "collapsed": true
   },
   "outputs": [],
   "source": []
  },
  {
   "cell_type": "code",
   "execution_count": null,
   "metadata": {
    "collapsed": true
   },
   "outputs": [],
   "source": []
  }
 ],
 "metadata": {
  "kernelspec": {
   "display_name": "Python 2",
   "language": "python",
   "name": "python2"
  },
  "language_info": {
   "codemirror_mode": {
    "name": "ipython",
    "version": 2
   },
   "file_extension": ".py",
   "mimetype": "text/x-python",
   "name": "python",
   "nbconvert_exporter": "python",
   "pygments_lexer": "ipython2",
   "version": "2.7.8"
  }
 },
 "nbformat": 4,
 "nbformat_minor": 2
}
