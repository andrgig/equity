{
 "cells": [
  {
   "cell_type": "markdown",
   "metadata": {},
   "source": [
    "$$\n",
    "\\def\\E{\\mathbb{E}}\n",
    "\\def\\1{\\mathbb{1}}\n",
    "$$\n",
    "In questo modello multiperiodale un'azienda fallisce quando alla scadenza del proprio debito il valore degli attivi si trova al di sotto di una soglia fissa K. Nel caso in cui si trovi sopra l'azienda può accedere ad un nuovo finziamento, ovviamente ad uno spread maggiore del precedente qualora gli attivi siano scesi (minore se saliti).\n",
    "L'azienda rinnova i propri finanziamenti ogni $\\tau$ anni, in teoria per sempre. Per motivi numerici è opportuno inserire una scadenza $T >> \\tau.$\n",
    "Ad ogni data di rinnovo $t = i \\cdot \\tau$ (dove i = 0,...,N), i finanziatori dell'azienda determinano lo spread minimo a cui sono dispositi a prestare soldi dalla seguente relazione:\n",
    "$$\n",
    "L(t) = \\E\\big[L(t)\\cdot(1+s(t))\\1_{\\{A(t+\\tau) > K\\}} + A(t+\\tau)\\1_{\\{A(t+\\tau < K\\}}\n",
    "|\\mathcal{F}_t\\big]\n",
    "$$\n",
    "Lo spread si può quindi determinare come:\n",
    "$$\n",
    "s(t) = \\frac{1}{L \\cdot N(d_2)}\\big[ L(t)\\cdot \\big(\\1-N(d_2)\\big) - A(t)\\cdot\\big(1-N(d_1)\\big)\\big]\n",
    "$$\n",
    "dove $L(t)$ è calcolabile partendo dal finanziamento originario in $t = 0$ come:\n",
    "$$\n",
    "L(t=i\\tau) = \\prod_{j=0}^{j=i-1}(1+s(j\\tau))L(0)\n",
    "$$\n",
    "La valutazione dell'equity potrebbe essere quindi effettuata in modalità forward (ad esempio tramite montecarlo) fino alla scadenza fittizia T attualizzando:\n",
    "* 0, nel caso in cui esista un A(t) < K\n",
    "* $max(A(T) - L(T), 0)$ se arriva a scadenza\n",
    "\n",
    "Questo modello ha una cosenguenza, ovvero che il default non dipende dalla storia del passivo (solo il payoff ne dipende). Vederemo in seguito se possibile cambiare qualche assunzione.\n"
   ]
  },
  {
   "cell_type": "code",
   "execution_count": 59,
   "metadata": {
    "collapsed": true
   },
   "outputs": [],
   "source": [
    "A = 100"
   ]
  },
  {
   "cell_type": "code",
   "execution_count": 60,
   "metadata": {
    "collapsed": true
   },
   "outputs": [],
   "source": [
    "K = 50"
   ]
  },
  {
   "cell_type": "code",
   "execution_count": 157,
   "metadata": {
    "collapsed": true
   },
   "outputs": [],
   "source": [
    "vol = 0.2"
   ]
  },
  {
   "cell_type": "code",
   "execution_count": 158,
   "metadata": {
    "collapsed": true
   },
   "outputs": [],
   "source": [
    "tau = 1"
   ]
  },
  {
   "cell_type": "code",
   "execution_count": 159,
   "metadata": {
    "collapsed": true
   },
   "outputs": [],
   "source": [
    "L = 90"
   ]
  },
  {
   "cell_type": "code",
   "execution_count": 160,
   "metadata": {
    "collapsed": true
   },
   "outputs": [],
   "source": [
    "T = 50"
   ]
  },
  {
   "cell_type": "code",
   "execution_count": 161,
   "metadata": {
    "collapsed": true
   },
   "outputs": [],
   "source": [
    "import numpy as np\n",
    "import scipy as sp\n",
    "import scipy.stats\n",
    "import math"
   ]
  },
  {
   "cell_type": "code",
   "execution_count": 162,
   "metadata": {
    "collapsed": false
   },
   "outputs": [],
   "source": [
    "def s(At, Lt):\n",
    "    d1 = (math.log(At / K) + (0.5 * vol ** 2) * tau) / (vol * math.sqrt(tau))\n",
    "    d2 = (math.log(At / K) - (0.5 * vol ** 2) * tau) / (vol * math.sqrt(tau))\n",
    "    Nd1 = sp.stats.norm.cdf(d1)\n",
    "    Nd2 = sp.stats.norm.cdf(d2)   \n",
    "    spread = (Lt*(1-Nd2) - At * (1-Nd1)) / (L*Nd2)\n",
    "    return spread"
   ]
  },
  {
   "cell_type": "code",
   "execution_count": 163,
   "metadata": {
    "collapsed": false
   },
   "outputs": [
    {
     "name": "stdout",
     "output_type": "stream",
     "text": [
      "0.000180191679296\n"
     ]
    }
   ],
   "source": [
    "print s(A,L)"
   ]
  },
  {
   "cell_type": "code",
   "execution_count": 164,
   "metadata": {
    "collapsed": false
   },
   "outputs": [],
   "source": [
    "def pathGen(runs):\n",
    "    nsteps = T / tau + 1\n",
    "    vol2 = vol * vol\n",
    "    steps = range(nsteps) * tau\n",
    "    epsilon = np.random.normal(0, 1, (runs, nsteps - 1))\n",
    "    paths = np.ones((nsteps, runs))\n",
    "    paths[0,:] = A\n",
    "    for i in range(nsteps)[1:]:\n",
    "        paths[i,:] = paths[i-1,:] * np.exp(-0.5*vol2 * tau + vol * math.sqrt(tau) * epsilon[:,i-1])\n",
    "    return paths"
   ]
  },
  {
   "cell_type": "code",
   "execution_count": 165,
   "metadata": {
    "collapsed": true
   },
   "outputs": [],
   "source": [
    "def payoff(path):\n",
    "    np.seterr('raise')\n",
    "    # Check for default\n",
    "    if min(path) < K:\n",
    "        return 0.\n",
    "    \n",
    "    # Compute the spread\n",
    "    try:\n",
    "        Lt = L\n",
    "        for i in range(len(path) - 1):\n",
    "            spread = s(path[i], Lt)\n",
    "            Lt = Lt * (1 + spread)\n",
    "    except:\n",
    "        return 0\n",
    "    \n",
    "    return max(path[-1] - Lt,0)"
   ]
  },
  {
   "cell_type": "code",
   "execution_count": 166,
   "metadata": {
    "collapsed": false
   },
   "outputs": [],
   "source": [
    "runs = 10000\n"
   ]
  },
  {
   "cell_type": "code",
   "execution_count": 167,
   "metadata": {
    "collapsed": false
   },
   "outputs": [],
   "source": [
    "def E():\n",
    "    paths = pathGen(runs)\n",
    "    payoffs = np.ones(runs)\n",
    "    for i in range(runs):\n",
    "        payoffs[i] = payoff(paths[:,i])\n",
    "    return payoffs.mean()\n",
    "        "
   ]
  },
  {
   "cell_type": "code",
   "execution_count": 168,
   "metadata": {
    "collapsed": false
   },
   "outputs": [
    {
     "name": "stdout",
     "output_type": "stream",
     "text": [
      "43.3064537366\n"
     ]
    }
   ],
   "source": [
    "print E()"
   ]
  },
  {
   "cell_type": "markdown",
   "metadata": {},
   "source": [
    "Questo modello non funziona, dovremmo ottenere un numero vicino a A - L iniziali. Ci sono più motivi:\n",
    "* è difficile capire qual è il payoff a scadenza: ho messo il max tra A - L e 0 poiché l'equity non può diventare negativa, ma così facendo il problema non è ben specificato. Ci sono path che terminano con A vicino a K, $L(T)$ enorme e nessuno che soffre A - L. Anche togliendo il max dalla condizione finale non sembra risolvere\n",
    "* L può crescere indiscriminatamente senza portare al fallimento, con problemi (numerici e concettuali) enormi.\n",
    "\n",
    "E' necessario cambiare le specifiche del modello, inserendo una condizione di fallimento differente Stavo pensando di inserire una condizione sullo spread, ma credo che questo porti alla necessità di risolvere il problema backward.\n",
    "Come primo tentativo per ovviare a questo problema si può ipotizzare come condizione di fallimento quella in cui gli attivi si trovano al di sotto di una percentuale $X$ dei passivi emessi alla data precedente."
   ]
  },
  {
   "cell_type": "code",
   "execution_count": 169,
   "metadata": {
    "collapsed": true
   },
   "outputs": [],
   "source": [
    "X = 0.4"
   ]
  },
  {
   "cell_type": "code",
   "execution_count": 170,
   "metadata": {
    "collapsed": false
   },
   "outputs": [],
   "source": [
    "def s_perc(At, Lt):\n",
    "    d1 = (math.log(At / (Lt * X)) + (0.5 * vol ** 2) * tau) / (vol * math.sqrt(tau))\n",
    "    d2 = (math.log(At / (Lt * X)) - (0.5 * vol ** 2) * tau) / (vol * math.sqrt(tau))\n",
    "    Nd1 = sp.stats.norm.cdf(d1)\n",
    "    Nd2 = sp.stats.norm.cdf(d2)   \n",
    "    spread = (Lt*(1-Nd2) - At * (1-Nd1)) / (L*Nd2)\n",
    "    return spread"
   ]
  },
  {
   "cell_type": "markdown",
   "metadata": {},
   "source": [
    "Il problema, come nel caso precedente, è quello di trovare un payoff terminale adeguato. Probabilmente la cosa migliore è ipotizzare, per quanto assurdo, che all'ultimo periodo valga il modello uniperiodale alla Merton e valutare la condizione terminale a $T - \\tau$ con il valore dell'equity dato dal valore della call. Rispetto a come ho tratto il caso precedente devo quindi inserire un ulteriore funzione per la deteriminazione dello spread e la funzione di pricing dell'equity."
   ]
  },
  {
   "cell_type": "code",
   "execution_count": 171,
   "metadata": {
    "collapsed": true
   },
   "outputs": [],
   "source": [
    "def bs(A, L):\n",
    "    d1 = (math.log(A / L) + (0.5 * vol ** 2) * tau) / (vol * math.sqrt(tau))\n",
    "    d2 = (math.log(A / L) - (0.5 * vol ** 2) * tau) / (vol * math.sqrt(tau))\n",
    "    call_price = A * sp.stats.norm.cdf(d1) - L * sp.stats.norm.cdf(d2)   \n",
    "    put_price = L * sp.stats.norm.cdf(-d2) - A * sp.stats.norm.cdf(-d1)\n",
    "    return put_price, call_price"
   ]
  },
  {
   "cell_type": "code",
   "execution_count": 172,
   "metadata": {
    "collapsed": true
   },
   "outputs": [],
   "source": [
    "def b1(A, L, s):\n",
    "    put, call = bs(A, L * (1+s))\n",
    "    return L * (1 + s) - put"
   ]
  },
  {
   "cell_type": "code",
   "execution_count": 173,
   "metadata": {
    "collapsed": true
   },
   "outputs": [],
   "source": [
    "def s_merton(A, L):\n",
    "    res = sp.optimize.minimize(\n",
    "    lambda s: (b1(A, L, s) - L) ** 2,\n",
    "    [0.0],\n",
    "    bounds=[(-0.1, 10.0)])\n",
    "    return res.x[0]\n"
   ]
  },
  {
   "cell_type": "code",
   "execution_count": 185,
   "metadata": {
    "collapsed": true
   },
   "outputs": [],
   "source": [
    "def e_merton(A, L, s):\n",
    "    put, call = bs(A, L * (1+s))\n",
    "    return call"
   ]
  },
  {
   "cell_type": "code",
   "execution_count": 186,
   "metadata": {
    "collapsed": true
   },
   "outputs": [],
   "source": [
    "def payoff_perc(path):\n",
    "    Lt = L\n",
    "    for i in range(len(path) - 1):\n",
    "        if path[i+1] < X * Lt:\n",
    "            # Default\n",
    "            return 0\n",
    "        if i == (len(path) - 2):\n",
    "            spread = s_merton(path[i], Lt)\n",
    "            return e_merton(path[i], Lt, spread)\n",
    "        else:\n",
    "            spread = s_perc(path[i], Lt)\n",
    "\n",
    "        Lt = Lt * (1 + spread)\n",
    "    \n",
    "    return max(path[-1] - Lt,0)"
   ]
  },
  {
   "cell_type": "code",
   "execution_count": 187,
   "metadata": {
    "collapsed": true
   },
   "outputs": [],
   "source": [
    "def E_perc():\n",
    "    paths = pathGen(runs)\n",
    "    payoffs = np.ones(runs)\n",
    "    for i in range(runs):\n",
    "        payoffs[i] = payoff_perc(paths[:,i])\n",
    "    return payoffs.mean()"
   ]
  },
  {
   "cell_type": "code",
   "execution_count": 188,
   "metadata": {
    "collapsed": false
   },
   "outputs": [
    {
     "name": "stdout",
     "output_type": "stream",
     "text": [
      "27.9303393188\n"
     ]
    }
   ],
   "source": [
    "print E_perc()"
   ]
  },
  {
   "cell_type": "markdown",
   "metadata": {},
   "source": [
    "Anche questo modello non funziona. Il problema credo dipenda dal fatto che in realtà queste specifiche non sono corrette. Ad esempio nel modello di Merton base il caso in cui il forward degli asset è inferiore al passivo non è ammissibile: non esiste nessun ente disposto a finanziare questo tipo di aziena. Sotto l'esempio numerico di un'aziena che ha debito per 100 e forward degli asset parti a 99.9."
   ]
  },
  {
   "cell_type": "code",
   "execution_count": 184,
   "metadata": {
    "collapsed": false
   },
   "outputs": [
    {
     "name": "stdout",
     "output_type": "stream",
     "text": [
      "10.0\n"
     ]
    }
   ],
   "source": [
    "print s_merton(99.9, 100)"
   ]
  },
  {
   "cell_type": "markdown",
   "metadata": {},
   "source": [
    "Ovvero lo spread massimo possibile del risolutore numerico pari al 1000%. Quindi, ipotizzare che valga Merton alla scadenza non è opportuno vista la possibiltà di emettere nuovo passivo con un attivo il cui valore/forward è inferiore. Direi anche che forse questa possibilità di rifinanziamento non è verosimile: c'è evidentemente da affrontre il modello in modo molto differente."
   ]
  },
  {
   "cell_type": "code",
   "execution_count": null,
   "metadata": {
    "collapsed": true
   },
   "outputs": [],
   "source": []
  }
 ],
 "metadata": {
  "kernelspec": {
   "display_name": "Python 2",
   "language": "python",
   "name": "python2"
  },
  "language_info": {
   "codemirror_mode": {
    "name": "ipython",
    "version": 2
   },
   "file_extension": ".py",
   "mimetype": "text/x-python",
   "name": "python",
   "nbconvert_exporter": "python",
   "pygments_lexer": "ipython2",
   "version": "2.7.8"
  }
 },
 "nbformat": 4,
 "nbformat_minor": 2
}
